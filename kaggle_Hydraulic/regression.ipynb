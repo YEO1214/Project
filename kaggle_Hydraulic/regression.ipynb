{
 "cells": [
  {
   "cell_type": "code",
   "execution_count": 1,
   "id": "d971acc9",
   "metadata": {},
   "outputs": [],
   "source": [
    "import pandas as pd\n",
    "import numpy as np\n",
    "import matplotlib.pyplot as plt\n",
    "import warnings\n",
    "warnings.filterwarnings('ignore')"
   ]
  },
  {
   "cell_type": "markdown",
   "id": "1f414a68",
   "metadata": {},
   "source": [
    "# Regression"
   ]
  },
  {
   "cell_type": "markdown",
   "id": "fd652f34",
   "metadata": {},
   "source": [
    "- 종속변수: cooler_eff\n",
    "\n",
    "- 독립변수: 각 변수의 중앙값"
   ]
  },
  {
   "cell_type": "code",
   "execution_count": 15,
   "id": "829ff882",
   "metadata": {
    "scrolled": false
   },
   "outputs": [
    {
     "data": {
      "text/html": [
       "<div>\n",
       "<style scoped>\n",
       "    .dataframe tbody tr th:only-of-type {\n",
       "        vertical-align: middle;\n",
       "    }\n",
       "\n",
       "    .dataframe tbody tr th {\n",
       "        vertical-align: top;\n",
       "    }\n",
       "\n",
       "    .dataframe thead th {\n",
       "        text-align: right;\n",
       "    }\n",
       "</style>\n",
       "<table border=\"1\" class=\"dataframe\">\n",
       "  <thead>\n",
       "    <tr style=\"text-align: right;\">\n",
       "      <th></th>\n",
       "      <th>CE</th>\n",
       "      <th>CP</th>\n",
       "      <th>EPS1</th>\n",
       "      <th>FS1</th>\n",
       "      <th>FS2</th>\n",
       "      <th>PS1</th>\n",
       "      <th>PS2</th>\n",
       "      <th>PS3</th>\n",
       "      <th>PS4</th>\n",
       "      <th>PS5</th>\n",
       "      <th>...</th>\n",
       "      <th>TS1</th>\n",
       "      <th>TS2</th>\n",
       "      <th>TS3</th>\n",
       "      <th>TS4</th>\n",
       "      <th>VS1</th>\n",
       "      <th>cooler_eff</th>\n",
       "      <th>valve_perc</th>\n",
       "      <th>pump_leak</th>\n",
       "      <th>accu_prs</th>\n",
       "      <th>stable</th>\n",
       "    </tr>\n",
       "  </thead>\n",
       "  <tbody>\n",
       "    <tr>\n",
       "      <th>0</th>\n",
       "      <td>40.6755</td>\n",
       "      <td>1.9240</td>\n",
       "      <td>2479.8</td>\n",
       "      <td>7.836</td>\n",
       "      <td>10.327</td>\n",
       "      <td>156.25</td>\n",
       "      <td>129.365</td>\n",
       "      <td>2.297</td>\n",
       "      <td>0.0</td>\n",
       "      <td>9.844</td>\n",
       "      <td>...</td>\n",
       "      <td>35.5720</td>\n",
       "      <td>40.9630</td>\n",
       "      <td>38.4960</td>\n",
       "      <td>31.576</td>\n",
       "      <td>0.5770</td>\n",
       "      <td>3</td>\n",
       "      <td>100</td>\n",
       "      <td>0</td>\n",
       "      <td>130</td>\n",
       "      <td>1</td>\n",
       "    </tr>\n",
       "    <tr>\n",
       "      <th>1</th>\n",
       "      <td>25.3855</td>\n",
       "      <td>1.2340</td>\n",
       "      <td>2470.0</td>\n",
       "      <td>7.853</td>\n",
       "      <td>10.403</td>\n",
       "      <td>156.06</td>\n",
       "      <td>129.385</td>\n",
       "      <td>2.273</td>\n",
       "      <td>0.0</td>\n",
       "      <td>9.632</td>\n",
       "      <td>...</td>\n",
       "      <td>36.7675</td>\n",
       "      <td>41.5180</td>\n",
       "      <td>38.9845</td>\n",
       "      <td>34.553</td>\n",
       "      <td>0.5595</td>\n",
       "      <td>3</td>\n",
       "      <td>100</td>\n",
       "      <td>0</td>\n",
       "      <td>130</td>\n",
       "      <td>1</td>\n",
       "    </tr>\n",
       "    <tr>\n",
       "      <th>2</th>\n",
       "      <td>22.1040</td>\n",
       "      <td>1.1095</td>\n",
       "      <td>2457.4</td>\n",
       "      <td>7.847</td>\n",
       "      <td>10.367</td>\n",
       "      <td>155.72</td>\n",
       "      <td>129.325</td>\n",
       "      <td>2.273</td>\n",
       "      <td>0.0</td>\n",
       "      <td>9.528</td>\n",
       "      <td>...</td>\n",
       "      <td>38.0235</td>\n",
       "      <td>42.4235</td>\n",
       "      <td>39.6270</td>\n",
       "      <td>35.635</td>\n",
       "      <td>0.5620</td>\n",
       "      <td>3</td>\n",
       "      <td>100</td>\n",
       "      <td>0</td>\n",
       "      <td>130</td>\n",
       "      <td>1</td>\n",
       "    </tr>\n",
       "    <tr>\n",
       "      <th>3</th>\n",
       "      <td>20.4805</td>\n",
       "      <td>1.0660</td>\n",
       "      <td>2448.0</td>\n",
       "      <td>7.843</td>\n",
       "      <td>10.302</td>\n",
       "      <td>155.56</td>\n",
       "      <td>128.865</td>\n",
       "      <td>2.242</td>\n",
       "      <td>0.0</td>\n",
       "      <td>9.436</td>\n",
       "      <td>...</td>\n",
       "      <td>39.0550</td>\n",
       "      <td>43.3650</td>\n",
       "      <td>40.3420</td>\n",
       "      <td>36.635</td>\n",
       "      <td>0.5550</td>\n",
       "      <td>3</td>\n",
       "      <td>100</td>\n",
       "      <td>0</td>\n",
       "      <td>130</td>\n",
       "      <td>1</td>\n",
       "    </tr>\n",
       "    <tr>\n",
       "      <th>4</th>\n",
       "      <td>19.7985</td>\n",
       "      <td>1.0725</td>\n",
       "      <td>2440.6</td>\n",
       "      <td>7.831</td>\n",
       "      <td>10.236</td>\n",
       "      <td>155.34</td>\n",
       "      <td>129.000</td>\n",
       "      <td>2.219</td>\n",
       "      <td>0.0</td>\n",
       "      <td>9.358</td>\n",
       "      <td>...</td>\n",
       "      <td>39.9670</td>\n",
       "      <td>44.3355</td>\n",
       "      <td>41.3400</td>\n",
       "      <td>37.439</td>\n",
       "      <td>0.5760</td>\n",
       "      <td>3</td>\n",
       "      <td>100</td>\n",
       "      <td>0</td>\n",
       "      <td>130</td>\n",
       "      <td>1</td>\n",
       "    </tr>\n",
       "  </tbody>\n",
       "</table>\n",
       "<p>5 rows × 22 columns</p>\n",
       "</div>"
      ],
      "text/plain": [
       "        CE      CP    EPS1    FS1     FS2     PS1      PS2    PS3  PS4    PS5  \\\n",
       "0  40.6755  1.9240  2479.8  7.836  10.327  156.25  129.365  2.297  0.0  9.844   \n",
       "1  25.3855  1.2340  2470.0  7.853  10.403  156.06  129.385  2.273  0.0  9.632   \n",
       "2  22.1040  1.1095  2457.4  7.847  10.367  155.72  129.325  2.273  0.0  9.528   \n",
       "3  20.4805  1.0660  2448.0  7.843  10.302  155.56  128.865  2.242  0.0  9.436   \n",
       "4  19.7985  1.0725  2440.6  7.831  10.236  155.34  129.000  2.219  0.0  9.358   \n",
       "\n",
       "   ...      TS1      TS2      TS3     TS4     VS1  cooler_eff  valve_perc  \\\n",
       "0  ...  35.5720  40.9630  38.4960  31.576  0.5770           3         100   \n",
       "1  ...  36.7675  41.5180  38.9845  34.553  0.5595           3         100   \n",
       "2  ...  38.0235  42.4235  39.6270  35.635  0.5620           3         100   \n",
       "3  ...  39.0550  43.3650  40.3420  36.635  0.5550           3         100   \n",
       "4  ...  39.9670  44.3355  41.3400  37.439  0.5760           3         100   \n",
       "\n",
       "   pump_leak  accu_prs  stable  \n",
       "0          0       130       1  \n",
       "1          0       130       1  \n",
       "2          0       130       1  \n",
       "3          0       130       1  \n",
       "4          0       130       1  \n",
       "\n",
       "[5 rows x 22 columns]"
      ]
     },
     "execution_count": 15,
     "metadata": {},
     "output_type": "execute_result"
    }
   ],
   "source": [
    "data = pd.read_csv('data_median.csv')\n",
    "data.head()"
   ]
  },
  {
   "cell_type": "code",
   "execution_count": 16,
   "id": "15bfb2cf",
   "metadata": {},
   "outputs": [
    {
     "data": {
      "text/plain": [
       "(2205, 22)"
      ]
     },
     "execution_count": 16,
     "metadata": {},
     "output_type": "execute_result"
    }
   ],
   "source": [
    "data.shape"
   ]
  },
  {
   "cell_type": "code",
   "execution_count": 17,
   "id": "84b1e795",
   "metadata": {},
   "outputs": [
    {
     "data": {
      "text/plain": [
       "Index(['CE', 'CP', 'EPS1', 'FS1', 'FS2', 'PS1', 'PS2', 'PS3', 'PS4', 'PS5',\n",
       "       'PS6', 'SE', 'TS1', 'TS2', 'TS3', 'TS4', 'VS1', 'cooler_eff',\n",
       "       'valve_perc', 'pump_leak', 'accu_prs', 'stable'],\n",
       "      dtype='object')"
      ]
     },
     "execution_count": 17,
     "metadata": {},
     "output_type": "execute_result"
    }
   ],
   "source": [
    "data.columns"
   ]
  },
  {
   "cell_type": "code",
   "execution_count": 18,
   "id": "77f68f25",
   "metadata": {},
   "outputs": [],
   "source": [
    "data = data.drop(['valve_perc', 'pump_leak', 'accu_prs', 'stable'], axis=1)"
   ]
  },
  {
   "cell_type": "code",
   "execution_count": null,
   "id": "e9334589",
   "metadata": {},
   "outputs": [],
   "source": []
  },
  {
   "cell_type": "markdown",
   "id": "ea67beb7",
   "metadata": {},
   "source": [
    "## 결측값"
   ]
  },
  {
   "cell_type": "code",
   "execution_count": 19,
   "id": "36d00832",
   "metadata": {
    "scrolled": false
   },
   "outputs": [
    {
     "data": {
      "text/plain": [
       "CE            0\n",
       "CP            0\n",
       "EPS1          0\n",
       "FS1           0\n",
       "FS2           0\n",
       "PS1           0\n",
       "PS2           0\n",
       "PS3           0\n",
       "PS4           0\n",
       "PS5           0\n",
       "PS6           0\n",
       "SE            0\n",
       "TS1           0\n",
       "TS2           0\n",
       "TS3           0\n",
       "TS4           0\n",
       "VS1           0\n",
       "cooler_eff    0\n",
       "dtype: int64"
      ]
     },
     "execution_count": 19,
     "metadata": {},
     "output_type": "execute_result"
    }
   ],
   "source": [
    "data.isnull().sum()"
   ]
  },
  {
   "cell_type": "code",
   "execution_count": null,
   "id": "afacc1c6",
   "metadata": {},
   "outputs": [],
   "source": []
  },
  {
   "cell_type": "markdown",
   "id": "6b91bebb",
   "metadata": {},
   "source": [
    "## 이상치 검출"
   ]
  },
  {
   "cell_type": "code",
   "execution_count": 20,
   "id": "95f4f033",
   "metadata": {},
   "outputs": [
    {
     "data": {
      "text/plain": [
       "<AxesSubplot:>"
      ]
     },
     "execution_count": 20,
     "metadata": {},
     "output_type": "execute_result"
    },
    {
     "data": {
      "image/png": "[encoded data removed]",
      "text/plain": [
       "<Figure size 1152x720 with 1 Axes>"
      ]
     },
     "metadata": {
      "needs_background": "light"
     },
     "output_type": "display_data"
    }
   ],
   "source": [
    "plt.figure(figsize=(16,10))\n",
    "data.boxplot(vert=0)"
   ]
  },
  {
   "cell_type": "code",
   "execution_count": null,
   "id": "7e2a065c",
   "metadata": {},
   "outputs": [],
   "source": []
  },
  {
   "cell_type": "code",
   "execution_count": 21,
   "id": "ae86f9e9",
   "metadata": {},
   "outputs": [],
   "source": [
    "def outlier_iqr(data):\n",
    "    q1, q3 = np.percentile(data,[25,75])\n",
    "    iqr = q3 - q1\n",
    "    lower_bound = q1 - (iqr*1.5)\n",
    "    upper_bound = q3 + (iqr*1.5)\n",
    "    \n",
    "    return np.where((data > upper_bound) | (data < lower_bound))"
   ]
  },
  {
   "cell_type": "code",
   "execution_count": 23,
   "id": "8ef2d648",
   "metadata": {
    "scrolled": true
   },
   "outputs": [
    {
     "name": "stdout",
     "output_type": "stream",
     "text": [
      "(array([], dtype=int64),)\n",
      "0\n",
      "(array([], dtype=int64),)\n",
      "0\n",
      "(array([211, 247, 343, 345, 346, 347, 348, 349, 351, 352, 353, 354, 355,\n",
      "       356, 357, 358, 359, 360, 361, 362, 363, 364, 366, 367, 368, 369,\n",
      "       370, 371, 372, 373, 374, 375, 376, 377, 378, 379, 381, 382, 384,\n",
      "       385, 386, 388, 390, 391, 392, 394, 395, 398, 399, 400, 401, 402,\n",
      "       404, 405, 406, 407, 408, 409, 410, 411, 412, 414, 415, 416, 418,\n",
      "       421, 422, 423, 424, 463, 469, 476, 477, 478, 479, 480, 481, 482,\n",
      "       483, 484, 485, 486, 487, 488, 489, 490, 491, 492, 493, 494, 496,\n",
      "       497, 498, 499, 500, 501, 502, 503, 504, 505, 506, 507, 508, 509,\n",
      "       510, 511, 512, 513, 514, 515, 516, 517, 518, 519, 520, 521, 522,\n",
      "       523, 524, 525, 526, 528, 530, 533, 534, 535, 536, 537, 538, 539,\n",
      "       540, 541, 542, 543, 544, 545, 546, 547, 548, 549, 550, 551, 552,\n",
      "       553, 554, 555, 556, 557, 560, 565, 571, 573, 574, 577, 582, 583,\n",
      "       587, 591, 594, 596, 609, 610, 611, 612, 613, 614, 615, 616, 617,\n",
      "       618, 619, 620, 621, 622, 623, 624, 625, 626, 627, 628, 631, 632,\n",
      "       633, 634, 637, 638, 639, 640, 641, 642, 644, 645, 646, 647, 648,\n",
      "       649, 650, 651, 652, 653, 654, 655, 657, 658, 659, 661, 662, 664,\n",
      "       665, 667, 668, 669, 670, 671, 672, 673, 675, 676, 678, 679, 680,\n",
      "       682, 683, 684, 685, 686, 687, 689, 690, 701], dtype=int64),)\n",
      "230\n",
      "(array([211, 214, 215, 247, 343, 345, 346, 347, 348, 349, 351, 352, 353,\n",
      "       354, 355, 356, 357, 358, 359, 360, 361, 362, 363, 364, 365, 366,\n",
      "       367, 368, 369, 370, 371, 372, 373, 374, 375, 376, 377, 378, 379,\n",
      "       380, 381, 382, 384, 385, 386, 388, 390, 391, 392, 394, 395, 398,\n",
      "       399, 400, 401, 402, 404, 405, 406, 407, 408, 409, 410, 411, 412,\n",
      "       414, 415, 416, 418, 419, 421, 422, 423, 424, 463, 469, 476, 477,\n",
      "       478, 479, 480, 481, 482, 483, 484, 485, 486, 487, 488, 489, 490,\n",
      "       491, 492, 493, 494, 496, 497, 498, 499, 500, 501, 502, 503, 504,\n",
      "       505, 506, 507, 508, 509, 510, 511, 512, 513, 514, 515, 516, 517,\n",
      "       518, 519, 520, 521, 522, 523, 524, 525, 526, 528, 530, 531, 533,\n",
      "       534, 535, 536, 537, 538, 539, 540, 541, 542, 543, 544, 545, 546,\n",
      "       547, 548, 549, 550, 551, 552, 553, 554, 555, 556, 557, 560, 565,\n",
      "       571, 573, 574, 577, 582, 583, 587, 591, 594, 596, 609, 610, 611,\n",
      "       612, 613, 614, 615, 616, 617, 618, 619, 620, 621, 622, 623, 624,\n",
      "       625, 626, 627, 628, 629, 631, 632, 633, 634, 635, 637, 638, 639,\n",
      "       640, 641, 642, 644, 645, 646, 647, 648, 649, 650, 651, 652, 653,\n",
      "       654, 655, 657, 658, 659, 661, 662, 664, 665, 666, 667, 668, 669,\n",
      "       670, 671, 672, 673, 675, 676, 678, 679, 680, 682, 683, 684, 685,\n",
      "       686, 687, 688, 689, 690, 701], dtype=int64),)\n",
      "240\n",
      "(array([], dtype=int64),)\n",
      "0\n",
      "(array([211, 247, 343, 345, 346, 347, 348, 349, 351, 352, 353, 354, 355,\n",
      "       356, 357, 358, 359, 360, 361, 362, 363, 364, 366, 367, 368, 369,\n",
      "       370, 371, 372, 373, 374, 375, 376, 377, 378, 379, 381, 382, 384,\n",
      "       385, 386, 388, 390, 391, 392, 394, 395, 398, 399, 400, 401, 402,\n",
      "       404, 405, 406, 407, 408, 409, 410, 411, 412, 414, 415, 416, 418,\n",
      "       421, 422, 423, 424, 463, 469, 476, 477, 478, 479, 480, 481, 482,\n",
      "       483, 484, 485, 486, 487, 488, 489, 490, 491, 492, 493, 494, 496,\n",
      "       497, 498, 499, 500, 501, 502, 503, 504, 505, 506, 507, 508, 509,\n",
      "       510, 511, 512, 513, 514, 515, 516, 517, 518, 519, 520, 521, 522,\n",
      "       523, 524, 525, 526, 528, 530, 533, 534, 535, 536, 537, 538, 539,\n",
      "       540, 541, 542, 543, 544, 545, 546, 547, 548, 549, 550, 551, 552,\n",
      "       553, 554, 555, 556, 557, 560, 565, 571, 573, 574, 577, 582, 583,\n",
      "       587, 591, 594, 596, 609, 610, 611, 612, 613, 614, 615, 616, 617,\n",
      "       618, 619, 620, 621, 622, 623, 624, 625, 626, 627, 628, 631, 632,\n",
      "       633, 634, 637, 638, 639, 640, 641, 642, 644, 645, 646, 647, 648,\n",
      "       649, 650, 651, 652, 653, 654, 655, 657, 658, 659, 661, 662, 664,\n",
      "       665, 667, 668, 669, 670, 671, 672, 673, 675, 676, 678, 679, 680,\n",
      "       682, 683, 684, 685, 686, 687, 689, 690, 701], dtype=int64),)\n",
      "230\n",
      "(array([211, 247, 370, 388, 395, 423, 463, 483, 499, 583, 591, 616, 617,\n",
      "       621, 633, 672], dtype=int64),)\n",
      "16\n",
      "(array([211, 214, 215, 247, 343, 345, 346, 347, 348, 349, 351, 352, 353,\n",
      "       354, 355, 356, 357, 358, 359, 360, 361, 362, 363, 364, 366, 367,\n",
      "       368, 369, 370, 371, 372, 373, 374, 375, 376, 377, 378, 379, 381,\n",
      "       382, 384, 385, 386, 388, 390, 391, 392, 394, 395, 398, 399, 400,\n",
      "       401, 402, 404, 405, 406, 407, 408, 409, 410, 411, 412, 414, 415,\n",
      "       416, 418, 421, 422, 423, 424, 463, 469, 476, 477, 478, 479, 480,\n",
      "       481, 482, 483, 484, 485, 486, 487, 488, 489, 490, 491, 492, 493,\n",
      "       494, 496, 497, 498, 499, 500, 501, 502, 503, 504, 505, 506, 507,\n",
      "       508, 509, 510, 511, 512, 513, 514, 515, 516, 517, 518, 519, 520,\n",
      "       521, 522, 523, 524, 525, 526, 528, 530, 533, 534, 535, 536, 537,\n",
      "       538, 539, 540, 541, 542, 543, 544, 545, 546, 547, 548, 549, 550,\n",
      "       551, 552, 553, 554, 555, 556, 557, 560, 565, 571, 573, 574, 577,\n",
      "       582, 583, 587, 591, 594, 596, 609, 610, 611, 612, 613, 614, 615,\n",
      "       616, 617, 618, 619, 620, 621, 622, 623, 624, 625, 626, 627, 628,\n",
      "       631, 632, 633, 634, 635, 637, 638, 639, 640, 641, 642, 644, 645,\n",
      "       646, 647, 648, 649, 650, 651, 652, 653, 654, 655, 657, 658, 659,\n",
      "       661, 662, 664, 665, 667, 668, 669, 670, 671, 672, 673, 675, 676,\n",
      "       678, 679, 680, 682, 683, 684, 685, 686, 687, 689, 690, 701],\n",
      "      dtype=int64),)\n",
      "233\n",
      "(array([1600, 1601, 1619, 1620, 1655, 1656, 1657, 1658, 1659, 1660, 1661,\n",
      "       1662, 1663, 1664, 1665, 1666, 1667, 1668, 1669, 1670, 1671, 1672,\n",
      "       1673, 1674, 1675, 1676, 1677, 1678, 1679, 1680, 1681, 1682, 1683,\n",
      "       1684, 1685, 1686, 1687, 1688, 1689, 1690, 1691, 1692, 1693, 1694,\n",
      "       1695, 1696, 1697, 1698, 1699, 1700, 1701, 1702, 1703, 1704, 1705,\n",
      "       1706, 1707, 1708, 1709, 1710, 1711, 1712, 1713, 1714, 1715, 1716,\n",
      "       1717, 1718, 1719, 1720, 1721, 1722, 1723, 1724, 1725, 1726, 1727,\n",
      "       1728, 1729, 1730, 1731, 1732, 1733, 1734, 1735, 1736, 1737, 1738,\n",
      "       1739, 1740, 1741, 1742, 1743, 1744, 1745, 1746, 1747, 1748, 1749,\n",
      "       1750, 1751, 1752, 1753, 1754, 1755, 1756, 1757, 1758, 1759, 1760,\n",
      "       1761, 1762, 1763, 1764, 1765, 1766, 1767, 1768, 1769, 1770, 1771,\n",
      "       1772, 1773, 1774, 1775, 1776, 1777, 1778, 1779, 1780, 1781, 1782,\n",
      "       1783, 1784, 1785, 1786, 1787, 1788, 1789, 1790, 1791, 1792, 1793,\n",
      "       1794, 1795, 1796, 1797, 1798, 1799, 1800, 1801, 1802, 1803, 1804,\n",
      "       1805, 1806, 1807, 1808, 1809, 1810, 1811, 1812, 1813, 1814, 1815,\n",
      "       1816, 1817, 1818, 1819, 1820, 1821, 1822, 1823, 1824, 1825, 1826,\n",
      "       1827, 1828, 1829, 1830, 1831, 1832, 1833, 1834, 1835, 1836, 1837,\n",
      "       1838, 1839, 1840, 1841, 1842, 1843, 1844, 1845, 1846, 1847, 1848,\n",
      "       1849, 1850, 1851, 1852, 1853, 1854, 1855, 1856, 1857, 1858, 1859,\n",
      "       1860, 1861, 1862, 1863, 1864, 1865, 1866, 1867, 1868, 1869, 1870,\n",
      "       1871, 1872, 1873, 1874, 1875, 1876, 1877, 1878, 1879, 1880, 1881,\n",
      "       1882, 1883, 1884, 1885, 1886, 1887, 1888, 1889, 1890, 1891, 1892,\n",
      "       1893, 1894, 1895, 1896, 1897, 1898, 1899, 1900, 1901, 1902, 1918,\n",
      "       1919, 1920, 1921, 1922, 1923, 1924, 1925, 1926, 1927, 1928, 1929,\n",
      "       1930, 1931, 1932, 1933, 1934, 1935, 1936, 1937, 1938, 1939, 1940,\n",
      "       1941, 1942, 1943, 1944, 1945, 1946, 1947, 1948, 1949, 1950, 1951,\n",
      "       1952, 1953, 1954, 1955, 1956, 1957, 1958, 1959, 1960, 1961, 1962,\n",
      "       1963, 1964, 1965, 1966, 1967, 1968, 1969, 1970, 1971, 1972, 1973,\n",
      "       1974, 1975, 1976, 1977, 1978, 1979, 1980, 1981, 1982, 1983, 1984,\n",
      "       1985, 1986, 1987, 1988, 1989, 1990, 1991, 1992, 1993, 1994, 1995,\n",
      "       1996, 1997, 1998, 1999, 2000, 2001, 2002, 2003, 2004, 2005, 2006,\n",
      "       2007, 2008, 2009, 2010, 2011, 2012, 2013, 2014, 2015, 2016, 2017,\n",
      "       2018, 2019, 2020, 2021, 2022, 2023, 2024, 2025, 2026, 2027, 2028,\n",
      "       2029, 2030, 2031, 2032, 2033, 2034, 2035, 2036, 2037, 2038, 2039,\n",
      "       2040, 2041, 2042, 2043, 2044, 2045, 2046, 2047, 2048, 2049, 2050,\n",
      "       2051, 2052, 2053, 2054, 2055, 2056, 2057, 2058, 2059, 2060, 2061,\n",
      "       2062, 2063, 2064, 2065, 2066, 2067, 2068, 2069, 2070, 2071, 2072,\n",
      "       2073, 2074, 2075, 2076, 2077, 2078, 2079, 2080, 2081, 2082, 2083,\n",
      "       2084, 2085, 2086, 2087, 2088, 2089, 2090, 2091, 2092, 2093, 2094,\n",
      "       2095, 2096, 2097, 2098, 2099, 2100, 2101, 2102, 2103, 2104, 2105,\n",
      "       2106, 2107, 2108, 2109, 2110, 2111, 2112, 2113, 2114, 2115, 2116,\n",
      "       2117, 2118, 2119, 2120, 2121, 2122, 2123, 2124, 2125, 2126, 2127,\n",
      "       2128, 2129, 2130, 2131, 2132, 2133, 2134, 2135, 2136, 2137, 2138,\n",
      "       2139, 2140, 2141, 2142, 2143, 2144, 2145, 2146, 2147, 2148, 2149,\n",
      "       2150, 2151, 2152, 2153, 2154, 2155, 2156, 2157, 2158, 2159, 2160,\n",
      "       2161, 2162, 2163, 2164, 2165, 2166, 2167, 2168, 2169, 2170, 2171,\n",
      "       2172, 2173, 2174, 2175, 2176, 2177, 2178, 2179, 2180, 2181, 2182,\n",
      "       2183, 2184, 2185, 2186, 2187, 2188, 2189, 2190, 2191, 2192, 2193,\n",
      "       2194, 2195, 2196, 2197, 2198, 2199, 2200, 2201, 2202, 2203, 2204],\n",
      "      dtype=int64),)\n",
      "539\n",
      "(array([], dtype=int64),)\n",
      "0\n",
      "(array([], dtype=int64),)\n",
      "0\n",
      "(array([211, 214, 215, 247, 343, 345, 346, 347, 348, 349, 351, 352, 353,\n",
      "       354, 355, 356, 357, 358, 359, 360, 361, 362, 363, 364, 365, 366,\n",
      "       367, 368, 369, 370, 371, 372, 373, 374, 375, 376, 377, 378, 379,\n",
      "       380, 381, 382, 384, 385, 386, 388, 390, 391, 392, 394, 395, 398,\n",
      "       399, 400, 401, 402, 404, 405, 406, 407, 408, 409, 410, 411, 412,\n",
      "       414, 415, 416, 418, 419, 421, 422, 423, 424, 463, 469, 476, 477,\n",
      "       478, 479, 480, 481, 482, 483, 484, 485, 486, 487, 488, 489, 490,\n",
      "       491, 492, 493, 494, 496, 497, 498, 499, 500, 501, 502, 503, 504,\n",
      "       505, 506, 507, 508, 509, 510, 511, 512, 513, 514, 515, 516, 517,\n",
      "       518, 519, 520, 521, 522, 523, 524, 525, 526, 528, 530, 531, 533,\n",
      "       534, 535, 536, 537, 538, 539, 540, 541, 542, 543, 544, 545, 546,\n",
      "       547, 548, 549, 550, 551, 552, 553, 554, 555, 556, 557, 560, 565,\n",
      "       571, 573, 574, 577, 582, 583, 587, 591, 594, 596, 609, 610, 611,\n",
      "       612, 613, 614, 615, 616, 617, 618, 619, 620, 621, 622, 623, 624,\n",
      "       625, 626, 627, 628, 629, 631, 632, 633, 634, 635, 637, 638, 639,\n",
      "       640, 641, 642, 644, 645, 646, 647, 648, 649, 650, 651, 652, 653,\n",
      "       654, 655, 657, 658, 659, 661, 662, 664, 665, 666, 667, 668, 669,\n",
      "       670, 671, 672, 673, 675, 676, 678, 679, 680, 682, 683, 684, 685,\n",
      "       686, 687, 688, 689, 690, 701], dtype=int64),)\n",
      "240\n",
      "(array([], dtype=int64),)\n",
      "0\n",
      "(array([], dtype=int64),)\n",
      "0\n",
      "(array([], dtype=int64),)\n",
      "0\n",
      "(array([], dtype=int64),)\n",
      "0\n",
      "(array([212, 215, 343, 346, 347, 348, 349, 351, 352, 353, 354, 355, 356,\n",
      "       357, 358, 359, 360, 361, 362, 363, 364, 365, 366, 367, 368, 369,\n",
      "       370, 371, 372, 373, 374, 375, 376, 377, 378, 379, 381, 382, 385,\n",
      "       386, 388, 391, 392, 395, 399, 400, 401, 402, 405, 406, 407, 408,\n",
      "       411, 412, 415, 416, 463, 478, 479, 480, 481, 483, 484, 485, 486,\n",
      "       487, 490, 492, 494, 498, 499, 500, 536, 537, 538, 540, 542, 543,\n",
      "       544, 545, 546, 549, 550, 551, 552, 553, 554, 555, 556, 565, 571,\n",
      "       574, 577, 582, 583, 587, 591, 594, 596, 610, 612, 613, 614, 615,\n",
      "       616, 617, 618, 619, 620, 621, 622, 623, 624, 625, 626, 627, 628,\n",
      "       632, 633, 634, 638, 639, 640, 641, 642, 645, 646, 647, 648, 649,\n",
      "       650, 651, 652, 654, 659, 662, 667, 669, 670, 671, 672, 673, 684,\n",
      "       687, 689], dtype=int64),)\n",
      "145\n",
      "(array([], dtype=int64),)\n",
      "0\n"
     ]
    }
   ],
   "source": [
    "for i in range(len(data.columns)):\n",
    "    print(outlier_iqr(data.iloc[:,i]))\n",
    "    print(len(outlier_iqr(data.iloc[:,i])[0]))"
   ]
  },
  {
   "cell_type": "code",
   "execution_count": 24,
   "id": "06b59f1d",
   "metadata": {
    "scrolled": true
   },
   "outputs": [],
   "source": [
    "#EPS1 이상치 제거\n",
    "out_EPS1 = outlier_iqr(data['EPS1'])[0]\n",
    "\n",
    "data = data.drop(index = out_EPS1)\n",
    "data = data.reset_index(drop = True)"
   ]
  },
  {
   "cell_type": "code",
   "execution_count": null,
   "id": "80b10913",
   "metadata": {},
   "outputs": [],
   "source": []
  },
  {
   "cell_type": "markdown",
   "id": "d20efb02",
   "metadata": {},
   "source": [
    "## 분포 확인"
   ]
  },
  {
   "cell_type": "code",
   "execution_count": 25,
   "id": "e30a6f86",
   "metadata": {
    "scrolled": true
   },
   "outputs": [
    {
     "data": {
      "text/html": [
       "<div>\n",
       "<style scoped>\n",
       "    .dataframe tbody tr th:only-of-type {\n",
       "        vertical-align: middle;\n",
       "    }\n",
       "\n",
       "    .dataframe tbody tr th {\n",
       "        vertical-align: top;\n",
       "    }\n",
       "\n",
       "    .dataframe thead th {\n",
       "        text-align: right;\n",
       "    }\n",
       "</style>\n",
       "<table border=\"1\" class=\"dataframe\">\n",
       "  <thead>\n",
       "    <tr style=\"text-align: right;\">\n",
       "      <th></th>\n",
       "      <th>CE</th>\n",
       "      <th>CP</th>\n",
       "      <th>EPS1</th>\n",
       "      <th>FS1</th>\n",
       "      <th>FS2</th>\n",
       "      <th>PS1</th>\n",
       "      <th>PS2</th>\n",
       "      <th>PS3</th>\n",
       "      <th>PS4</th>\n",
       "      <th>PS5</th>\n",
       "      <th>PS6</th>\n",
       "      <th>SE</th>\n",
       "      <th>TS1</th>\n",
       "      <th>TS2</th>\n",
       "      <th>TS3</th>\n",
       "      <th>TS4</th>\n",
       "      <th>VS1</th>\n",
       "      <th>cooler_eff</th>\n",
       "    </tr>\n",
       "  </thead>\n",
       "  <tbody>\n",
       "    <tr>\n",
       "      <th>0</th>\n",
       "      <td>40.6755</td>\n",
       "      <td>1.9240</td>\n",
       "      <td>2479.8</td>\n",
       "      <td>7.836</td>\n",
       "      <td>10.327</td>\n",
       "      <td>156.25</td>\n",
       "      <td>129.365</td>\n",
       "      <td>2.297</td>\n",
       "      <td>0.0</td>\n",
       "      <td>9.844</td>\n",
       "      <td>9.733</td>\n",
       "      <td>68.5145</td>\n",
       "      <td>35.5720</td>\n",
       "      <td>40.9630</td>\n",
       "      <td>38.4960</td>\n",
       "      <td>31.576</td>\n",
       "      <td>0.5770</td>\n",
       "      <td>3</td>\n",
       "    </tr>\n",
       "    <tr>\n",
       "      <th>1</th>\n",
       "      <td>25.3855</td>\n",
       "      <td>1.2340</td>\n",
       "      <td>2470.0</td>\n",
       "      <td>7.853</td>\n",
       "      <td>10.403</td>\n",
       "      <td>156.06</td>\n",
       "      <td>129.385</td>\n",
       "      <td>2.273</td>\n",
       "      <td>0.0</td>\n",
       "      <td>9.632</td>\n",
       "      <td>9.526</td>\n",
       "      <td>68.5360</td>\n",
       "      <td>36.7675</td>\n",
       "      <td>41.5180</td>\n",
       "      <td>38.9845</td>\n",
       "      <td>34.553</td>\n",
       "      <td>0.5595</td>\n",
       "      <td>3</td>\n",
       "    </tr>\n",
       "    <tr>\n",
       "      <th>2</th>\n",
       "      <td>22.1040</td>\n",
       "      <td>1.1095</td>\n",
       "      <td>2457.4</td>\n",
       "      <td>7.847</td>\n",
       "      <td>10.367</td>\n",
       "      <td>155.72</td>\n",
       "      <td>129.325</td>\n",
       "      <td>2.273</td>\n",
       "      <td>0.0</td>\n",
       "      <td>9.528</td>\n",
       "      <td>9.425</td>\n",
       "      <td>68.8530</td>\n",
       "      <td>38.0235</td>\n",
       "      <td>42.4235</td>\n",
       "      <td>39.6270</td>\n",
       "      <td>35.635</td>\n",
       "      <td>0.5620</td>\n",
       "      <td>3</td>\n",
       "    </tr>\n",
       "    <tr>\n",
       "      <th>3</th>\n",
       "      <td>20.4805</td>\n",
       "      <td>1.0660</td>\n",
       "      <td>2448.0</td>\n",
       "      <td>7.843</td>\n",
       "      <td>10.302</td>\n",
       "      <td>155.56</td>\n",
       "      <td>128.865</td>\n",
       "      <td>2.242</td>\n",
       "      <td>0.0</td>\n",
       "      <td>9.436</td>\n",
       "      <td>9.335</td>\n",
       "      <td>69.0060</td>\n",
       "      <td>39.0550</td>\n",
       "      <td>43.3650</td>\n",
       "      <td>40.3420</td>\n",
       "      <td>36.635</td>\n",
       "      <td>0.5550</td>\n",
       "      <td>3</td>\n",
       "    </tr>\n",
       "    <tr>\n",
       "      <th>4</th>\n",
       "      <td>19.7985</td>\n",
       "      <td>1.0725</td>\n",
       "      <td>2440.6</td>\n",
       "      <td>7.831</td>\n",
       "      <td>10.236</td>\n",
       "      <td>155.34</td>\n",
       "      <td>129.000</td>\n",
       "      <td>2.219</td>\n",
       "      <td>0.0</td>\n",
       "      <td>9.358</td>\n",
       "      <td>9.260</td>\n",
       "      <td>69.0130</td>\n",
       "      <td>39.9670</td>\n",
       "      <td>44.3355</td>\n",
       "      <td>41.3400</td>\n",
       "      <td>37.439</td>\n",
       "      <td>0.5760</td>\n",
       "      <td>3</td>\n",
       "    </tr>\n",
       "  </tbody>\n",
       "</table>\n",
       "</div>"
      ],
      "text/plain": [
       "        CE      CP    EPS1    FS1     FS2     PS1      PS2    PS3  PS4    PS5  \\\n",
       "0  40.6755  1.9240  2479.8  7.836  10.327  156.25  129.365  2.297  0.0  9.844   \n",
       "1  25.3855  1.2340  2470.0  7.853  10.403  156.06  129.385  2.273  0.0  9.632   \n",
       "2  22.1040  1.1095  2457.4  7.847  10.367  155.72  129.325  2.273  0.0  9.528   \n",
       "3  20.4805  1.0660  2448.0  7.843  10.302  155.56  128.865  2.242  0.0  9.436   \n",
       "4  19.7985  1.0725  2440.6  7.831  10.236  155.34  129.000  2.219  0.0  9.358   \n",
       "\n",
       "     PS6       SE      TS1      TS2      TS3     TS4     VS1  cooler_eff  \n",
       "0  9.733  68.5145  35.5720  40.9630  38.4960  31.576  0.5770           3  \n",
       "1  9.526  68.5360  36.7675  41.5180  38.9845  34.553  0.5595           3  \n",
       "2  9.425  68.8530  38.0235  42.4235  39.6270  35.635  0.5620           3  \n",
       "3  9.335  69.0060  39.0550  43.3650  40.3420  36.635  0.5550           3  \n",
       "4  9.260  69.0130  39.9670  44.3355  41.3400  37.439  0.5760           3  "
      ]
     },
     "execution_count": 25,
     "metadata": {},
     "output_type": "execute_result"
    }
   ],
   "source": [
    "data.head()"
   ]
  },
  {
   "cell_type": "code",
   "execution_count": 26,
   "id": "8feb6d17",
   "metadata": {
    "scrolled": false
   },
   "outputs": [
    {
     "data": {
      "image/png": "[encoded data removed]",
      "text/plain": [
       "<Figure size 921x216 with 1 Axes>"
      ]
     },
     "metadata": {
      "needs_background": "light"
     },
     "output_type": "display_data"
    },
    {
     "data": {
      "image/png": "[encoded data removed]",
      "text/plain": [
       "<Figure size 921x216 with 1 Axes>"
      ]
     },
     "metadata": {
      "needs_background": "light"
     },
     "output_type": "display_data"
    },
    {
     "data": {
      "image/png": "[encoded data removed]",
      "text/plain": [
       "<Figure size 921x216 with 1 Axes>"
      ]
     },
     "metadata": {
      "needs_background": "light"
     },
     "output_type": "display_data"
    },
    {
     "data": {
      "image/png": "[encoded data removed]",
      "text/plain": [
       "<Figure size 921x216 with 1 Axes>"
      ]
     },
     "metadata": {
      "needs_background": "light"
     },
     "output_type": "display_data"
    },
    {
     "data": {
      "image/png": "[encoded data removed]",
      "text/plain": [
       "<Figure size 921x216 with 1 Axes>"
      ]
     },
     "metadata": {
      "needs_background": "light"
     },
     "output_type": "display_data"
    },
    {
     "data": {
      "image/png": "[encoded data removed]",
      "text/plain": [
       "<Figure size 921x216 with 1 Axes>"
      ]
     },
     "metadata": {
      "needs_background": "light"
     },
     "output_type": "display_data"
    },
    {
     "data": {
      "image/png": "[encoded data removed]",
      "text/plain": [
       "<Figure size 921x216 with 1 Axes>"
      ]
     },
     "metadata": {
      "needs_background": "light"
     },
     "output_type": "display_data"
    },
    {
     "data": {
      "image/png": "[encoded data removed]",
      "text/plain": [
       "<Figure size 921x216 with 1 Axes>"
      ]
     },
     "metadata": {
      "needs_background": "light"
     },
     "output_type": "display_data"
    },
    {
     "data": {
      "image/png": "[encoded data removed]",
      "text/plain": [
       "<Figure size 921x216 with 1 Axes>"
      ]
     },
     "metadata": {
      "needs_background": "light"
     },
     "output_type": "display_data"
    },
    {
     "data": {
      "image/png": "[encoded data removed]",
      "text/plain": [
       "<Figure size 921x216 with 1 Axes>"
      ]
     },
     "metadata": {
      "needs_background": "light"
     },
     "output_type": "display_data"
    },
    {
     "data": {
      "image/png": "[encoded data removed]",
      "text/plain": [
       "<Figure size 921x216 with 1 Axes>"
      ]
     },
     "metadata": {
      "needs_background": "light"
     },
     "output_type": "display_data"
    },
    {
     "data": {
      "image/png": "[encoded data removed]",
      "text/plain": [
       "<Figure size 921x216 with 1 Axes>"
      ]
     },
     "metadata": {
      "needs_background": "light"
     },
     "output_type": "display_data"
    },
    {
     "data": {
      "image/png": "[encoded data removed]",
      "text/plain": [
       "<Figure size 921x216 with 1 Axes>"
      ]
     },
     "metadata": {
      "needs_background": "light"
     },
     "output_type": "display_data"
    },
    {
     "data": {
      "image/png": "[encoded data removed]",
      "text/plain": [
       "<Figure size 921x216 with 1 Axes>"
      ]
     },
     "metadata": {
      "needs_background": "light"
     },
     "output_type": "display_data"
    },
    {
     "data": {
      "image/png": "[encoded data removed]",
      "text/plain": [
       "<Figure size 921x216 with 1 Axes>"
      ]
     },
     "metadata": {
      "needs_background": "light"
     },
     "output_type": "display_data"
    },
    {
     "data": {
      "image/png": "[encoded data removed]",
      "text/plain": [
       "<Figure size 921x216 with 1 Axes>"
      ]
     },
     "metadata": {
      "needs_background": "light"
     },
     "output_type": "display_data"
    },
    {
     "data": {
      "image/png": "[encoded data removed]",
      "text/plain": [
       "<Figure size 921x216 with 1 Axes>"
      ]
     },
     "metadata": {
      "needs_background": "light"
     },
     "output_type": "display_data"
    },
    {
     "data": {
      "image/png": "[encoded data removed]",
      "text/plain": [
       "<Figure size 921x216 with 1 Axes>"
      ]
     },
     "metadata": {
      "needs_background": "light"
     },
     "output_type": "display_data"
    }
   ],
   "source": [
    "for i in range(len(data.columns)):    \n",
    "    facet = sns.FacetGrid(data, hue=\"cooler_eff\",aspect=4)\n",
    "    facet.map(sns.kdeplot,data.columns[i],shade= True)\n",
    "    facet.set(xlim=(0, data.iloc[:,i].max()))\n",
    "    facet.add_legend()\n",
    "    plt.show()"
   ]
  },
  {
   "cell_type": "markdown",
   "id": "bb28244e",
   "metadata": {},
   "source": [
    "## 상관분석"
   ]
  },
  {
   "cell_type": "code",
   "execution_count": 27,
   "id": "431544ee",
   "metadata": {
    "scrolled": false
   },
   "outputs": [
    {
     "data": {
      "text/plain": [
       "<AxesSubplot:>"
      ]
     },
     "execution_count": 27,
     "metadata": {},
     "output_type": "execute_result"
    },
    {
     "data": {
      "image/png": "[encoded data removed]",
      "text/plain": [
       "<Figure size 1080x1080 with 2 Axes>"
      ]
     },
     "metadata": {
      "needs_background": "light"
     },
     "output_type": "display_data"
    }
   ],
   "source": [
    "plt.figure(figsize = (15,15))\n",
    "\n",
    "#삼각형 마스크\n",
    "mask = np.zeros_like(data.corr(),dtype=np.bool)\n",
    "mask[np.triu_indices_from(mask)] = True\n",
    "\n",
    "#히트맵\n",
    "sns.heatmap(data.corr(),\n",
    "            annot=True, #실제갑 화면에 나타내기\n",
    "            fmt='.2f',\n",
    "            #cmap='RdYlBu_r', #Red, Yellow, Blue 색상으로 표시\n",
    "           mask=mask,\n",
    "           linewidths=.5,\n",
    "           cbar_kws={'shrink':.5}, #컬러바 크기 절반으로 줄이기\n",
    "            vmin = -1, vmax=1\n",
    "           )\n",
    "\n",
    "\n",
    "#plt.savefig('kaggle_corr.png',dpi=600, bbox_inches='tight')"
   ]
  },
  {
   "cell_type": "code",
   "execution_count": null,
   "id": "a91680bd",
   "metadata": {},
   "outputs": [],
   "source": []
  },
  {
   "cell_type": "code",
   "execution_count": 28,
   "id": "990e6636",
   "metadata": {},
   "outputs": [],
   "source": [
    "x = data.drop('cooler_eff',axis=1)"
   ]
  },
  {
   "cell_type": "code",
   "execution_count": null,
   "id": "40f0053d",
   "metadata": {},
   "outputs": [],
   "source": []
  },
  {
   "cell_type": "markdown",
   "id": "1c8dd0b5",
   "metadata": {},
   "source": [
    "## 정규화(븐포 범위 0~1)"
   ]
  },
  {
   "cell_type": "code",
   "execution_count": 29,
   "id": "5d21e8f9",
   "metadata": {},
   "outputs": [],
   "source": [
    "from sklearn.preprocessing import MinMaxScaler\n",
    "\n",
    "scaler_minmax = MinMaxScaler()\n",
    "x_minmax = scaler_minmax.fit(x).transform(x)"
   ]
  },
  {
   "cell_type": "code",
   "execution_count": 30,
   "id": "7865a187",
   "metadata": {
    "scrolled": true
   },
   "outputs": [
    {
     "data": {
      "text/html": [
       "<div>\n",
       "<style scoped>\n",
       "    .dataframe tbody tr th:only-of-type {\n",
       "        vertical-align: middle;\n",
       "    }\n",
       "\n",
       "    .dataframe tbody tr th {\n",
       "        vertical-align: top;\n",
       "    }\n",
       "\n",
       "    .dataframe thead th {\n",
       "        text-align: right;\n",
       "    }\n",
       "</style>\n",
       "<table border=\"1\" class=\"dataframe\">\n",
       "  <thead>\n",
       "    <tr style=\"text-align: right;\">\n",
       "      <th></th>\n",
       "      <th>CE</th>\n",
       "      <th>CP</th>\n",
       "      <th>EPS1</th>\n",
       "      <th>FS1</th>\n",
       "      <th>FS2</th>\n",
       "      <th>PS1</th>\n",
       "      <th>PS2</th>\n",
       "      <th>PS3</th>\n",
       "      <th>PS4</th>\n",
       "      <th>PS5</th>\n",
       "      <th>PS6</th>\n",
       "      <th>SE</th>\n",
       "      <th>TS1</th>\n",
       "      <th>TS2</th>\n",
       "      <th>TS3</th>\n",
       "      <th>TS4</th>\n",
       "      <th>VS1</th>\n",
       "    </tr>\n",
       "  </thead>\n",
       "  <tbody>\n",
       "    <tr>\n",
       "      <th>0</th>\n",
       "      <td>0.761217</td>\n",
       "      <td>0.482836</td>\n",
       "      <td>0.823738</td>\n",
       "      <td>0.989580</td>\n",
       "      <td>0.950456</td>\n",
       "      <td>0.766917</td>\n",
       "      <td>0.828981</td>\n",
       "      <td>0.968007</td>\n",
       "      <td>0.0</td>\n",
       "      <td>0.917082</td>\n",
       "      <td>0.919555</td>\n",
       "      <td>0.934668</td>\n",
       "      <td>0.008654</td>\n",
       "      <td>0.005815</td>\n",
       "      <td>0.014251</td>\n",
       "      <td>0.052403</td>\n",
       "      <td>0.222880</td>\n",
       "    </tr>\n",
       "    <tr>\n",
       "      <th>1</th>\n",
       "      <td>0.258984</td>\n",
       "      <td>0.094541</td>\n",
       "      <td>0.780337</td>\n",
       "      <td>1.000000</td>\n",
       "      <td>1.000000</td>\n",
       "      <td>0.743108</td>\n",
       "      <td>0.832350</td>\n",
       "      <td>0.948318</td>\n",
       "      <td>0.0</td>\n",
       "      <td>0.784913</td>\n",
       "      <td>0.784173</td>\n",
       "      <td>0.935630</td>\n",
       "      <td>0.061575</td>\n",
       "      <td>0.032051</td>\n",
       "      <td>0.037380</td>\n",
       "      <td>0.184053</td>\n",
       "      <td>0.153846</td>\n",
       "    </tr>\n",
       "    <tr>\n",
       "      <th>2</th>\n",
       "      <td>0.151196</td>\n",
       "      <td>0.024479</td>\n",
       "      <td>0.724535</td>\n",
       "      <td>0.996322</td>\n",
       "      <td>0.976532</td>\n",
       "      <td>0.700501</td>\n",
       "      <td>0.822241</td>\n",
       "      <td>0.948318</td>\n",
       "      <td>0.0</td>\n",
       "      <td>0.720075</td>\n",
       "      <td>0.718116</td>\n",
       "      <td>0.949815</td>\n",
       "      <td>0.117173</td>\n",
       "      <td>0.074856</td>\n",
       "      <td>0.067800</td>\n",
       "      <td>0.231902</td>\n",
       "      <td>0.163708</td>\n",
       "    </tr>\n",
       "    <tr>\n",
       "      <th>3</th>\n",
       "      <td>0.097868</td>\n",
       "      <td>0.000000</td>\n",
       "      <td>0.682905</td>\n",
       "      <td>0.993871</td>\n",
       "      <td>0.934159</td>\n",
       "      <td>0.680451</td>\n",
       "      <td>0.744735</td>\n",
       "      <td>0.922888</td>\n",
       "      <td>0.0</td>\n",
       "      <td>0.662718</td>\n",
       "      <td>0.659254</td>\n",
       "      <td>0.956662</td>\n",
       "      <td>0.162834</td>\n",
       "      <td>0.119363</td>\n",
       "      <td>0.101652</td>\n",
       "      <td>0.276124</td>\n",
       "      <td>0.136095</td>\n",
       "    </tr>\n",
       "    <tr>\n",
       "      <th>4</th>\n",
       "      <td>0.075466</td>\n",
       "      <td>0.003658</td>\n",
       "      <td>0.650133</td>\n",
       "      <td>0.986515</td>\n",
       "      <td>0.891134</td>\n",
       "      <td>0.652882</td>\n",
       "      <td>0.767481</td>\n",
       "      <td>0.904020</td>\n",
       "      <td>0.0</td>\n",
       "      <td>0.614090</td>\n",
       "      <td>0.610203</td>\n",
       "      <td>0.956975</td>\n",
       "      <td>0.203205</td>\n",
       "      <td>0.165241</td>\n",
       "      <td>0.148904</td>\n",
       "      <td>0.311679</td>\n",
       "      <td>0.218935</td>\n",
       "    </tr>\n",
       "  </tbody>\n",
       "</table>\n",
       "</div>"
      ],
      "text/plain": [
       "         CE        CP      EPS1       FS1       FS2       PS1       PS2  \\\n",
       "0  0.761217  0.482836  0.823738  0.989580  0.950456  0.766917  0.828981   \n",
       "1  0.258984  0.094541  0.780337  1.000000  1.000000  0.743108  0.832350   \n",
       "2  0.151196  0.024479  0.724535  0.996322  0.976532  0.700501  0.822241   \n",
       "3  0.097868  0.000000  0.682905  0.993871  0.934159  0.680451  0.744735   \n",
       "4  0.075466  0.003658  0.650133  0.986515  0.891134  0.652882  0.767481   \n",
       "\n",
       "        PS3  PS4       PS5       PS6        SE       TS1       TS2       TS3  \\\n",
       "0  0.968007  0.0  0.917082  0.919555  0.934668  0.008654  0.005815  0.014251   \n",
       "1  0.948318  0.0  0.784913  0.784173  0.935630  0.061575  0.032051  0.037380   \n",
       "2  0.948318  0.0  0.720075  0.718116  0.949815  0.117173  0.074856  0.067800   \n",
       "3  0.922888  0.0  0.662718  0.659254  0.956662  0.162834  0.119363  0.101652   \n",
       "4  0.904020  0.0  0.614090  0.610203  0.956975  0.203205  0.165241  0.148904   \n",
       "\n",
       "        TS4       VS1  \n",
       "0  0.052403  0.222880  \n",
       "1  0.184053  0.153846  \n",
       "2  0.231902  0.163708  \n",
       "3  0.276124  0.136095  \n",
       "4  0.311679  0.218935  "
      ]
     },
     "execution_count": 30,
     "metadata": {},
     "output_type": "execute_result"
    }
   ],
   "source": [
    "x_minmax = pd.DataFrame(x_minmax)\n",
    "x_minmax.columns = x.columns\n",
    "x_minmax.head()"
   ]
  },
  {
   "cell_type": "code",
   "execution_count": null,
   "id": "5c3f36ba",
   "metadata": {},
   "outputs": [],
   "source": []
  },
  {
   "cell_type": "markdown",
   "id": "0da11a6b",
   "metadata": {},
   "source": [
    "## split data"
   ]
  },
  {
   "cell_type": "code",
   "execution_count": 31,
   "id": "8352c1cf",
   "metadata": {},
   "outputs": [],
   "source": [
    "from sklearn.model_selection import train_test_split\n",
    "\n",
    "x_train,x_test,y_train,y_test = train_test_split(x_minmax, data['cooler_eff'], test_size=0.3, random_state=42)"
   ]
  },
  {
   "cell_type": "code",
   "execution_count": 32,
   "id": "23dece31",
   "metadata": {
    "scrolled": true
   },
   "outputs": [
    {
     "data": {
      "text/html": [
       "<div>\n",
       "<style scoped>\n",
       "    .dataframe tbody tr th:only-of-type {\n",
       "        vertical-align: middle;\n",
       "    }\n",
       "\n",
       "    .dataframe tbody tr th {\n",
       "        vertical-align: top;\n",
       "    }\n",
       "\n",
       "    .dataframe thead th {\n",
       "        text-align: right;\n",
       "    }\n",
       "</style>\n",
       "<table border=\"1\" class=\"dataframe\">\n",
       "  <thead>\n",
       "    <tr style=\"text-align: right;\">\n",
       "      <th></th>\n",
       "      <th>CE</th>\n",
       "      <th>CP</th>\n",
       "      <th>EPS1</th>\n",
       "      <th>FS1</th>\n",
       "      <th>FS2</th>\n",
       "      <th>PS1</th>\n",
       "      <th>PS2</th>\n",
       "      <th>PS3</th>\n",
       "      <th>PS4</th>\n",
       "      <th>PS5</th>\n",
       "      <th>PS6</th>\n",
       "      <th>SE</th>\n",
       "      <th>TS1</th>\n",
       "      <th>TS2</th>\n",
       "      <th>TS3</th>\n",
       "      <th>TS4</th>\n",
       "      <th>VS1</th>\n",
       "    </tr>\n",
       "  </thead>\n",
       "  <tbody>\n",
       "    <tr>\n",
       "      <th>1249</th>\n",
       "      <td>0.961536</td>\n",
       "      <td>0.700056</td>\n",
       "      <td>0.814880</td>\n",
       "      <td>0.986515</td>\n",
       "      <td>0.807040</td>\n",
       "      <td>0.730576</td>\n",
       "      <td>0.872789</td>\n",
       "      <td>0.968007</td>\n",
       "      <td>0.072891</td>\n",
       "      <td>0.938279</td>\n",
       "      <td>0.938522</td>\n",
       "      <td>0.920439</td>\n",
       "      <td>0.049379</td>\n",
       "      <td>0.063534</td>\n",
       "      <td>0.068084</td>\n",
       "      <td>0.033344</td>\n",
       "      <td>0.149901</td>\n",
       "    </tr>\n",
       "    <tr>\n",
       "      <th>1556</th>\n",
       "      <td>0.992330</td>\n",
       "      <td>0.625211</td>\n",
       "      <td>0.805137</td>\n",
       "      <td>0.985290</td>\n",
       "      <td>0.844850</td>\n",
       "      <td>0.779449</td>\n",
       "      <td>0.906487</td>\n",
       "      <td>0.986874</td>\n",
       "      <td>0.985794</td>\n",
       "      <td>0.911471</td>\n",
       "      <td>0.910399</td>\n",
       "      <td>0.936100</td>\n",
       "      <td>0.038578</td>\n",
       "      <td>0.049021</td>\n",
       "      <td>0.042754</td>\n",
       "      <td>0.035378</td>\n",
       "      <td>0.104536</td>\n",
       "    </tr>\n",
       "    <tr>\n",
       "      <th>1617</th>\n",
       "      <td>0.954572</td>\n",
       "      <td>0.601294</td>\n",
       "      <td>0.898140</td>\n",
       "      <td>0.774441</td>\n",
       "      <td>0.847458</td>\n",
       "      <td>0.659148</td>\n",
       "      <td>0.829823</td>\n",
       "      <td>0.904020</td>\n",
       "      <td>0.986186</td>\n",
       "      <td>0.910224</td>\n",
       "      <td>0.910399</td>\n",
       "      <td>0.768453</td>\n",
       "      <td>0.045152</td>\n",
       "      <td>0.051692</td>\n",
       "      <td>0.046967</td>\n",
       "      <td>0.046964</td>\n",
       "      <td>0.102564</td>\n",
       "    </tr>\n",
       "    <tr>\n",
       "      <th>1567</th>\n",
       "      <td>0.979799</td>\n",
       "      <td>0.617333</td>\n",
       "      <td>0.815766</td>\n",
       "      <td>0.989274</td>\n",
       "      <td>0.847458</td>\n",
       "      <td>0.766917</td>\n",
       "      <td>0.925864</td>\n",
       "      <td>0.974569</td>\n",
       "      <td>0.986382</td>\n",
       "      <td>0.912718</td>\n",
       "      <td>0.912361</td>\n",
       "      <td>0.934758</td>\n",
       "      <td>0.041101</td>\n",
       "      <td>0.050771</td>\n",
       "      <td>0.046825</td>\n",
       "      <td>0.039358</td>\n",
       "      <td>0.094675</td>\n",
       "    </tr>\n",
       "    <tr>\n",
       "      <th>1027</th>\n",
       "      <td>0.335041</td>\n",
       "      <td>0.392515</td>\n",
       "      <td>0.486271</td>\n",
       "      <td>0.824395</td>\n",
       "      <td>0.558670</td>\n",
       "      <td>0.433584</td>\n",
       "      <td>0.563606</td>\n",
       "      <td>0.743232</td>\n",
       "      <td>0.000000</td>\n",
       "      <td>0.496259</td>\n",
       "      <td>0.493787</td>\n",
       "      <td>0.870299</td>\n",
       "      <td>0.390186</td>\n",
       "      <td>0.392857</td>\n",
       "      <td>0.384499</td>\n",
       "      <td>0.407465</td>\n",
       "      <td>0.370809</td>\n",
       "    </tr>\n",
       "    <tr>\n",
       "      <th>...</th>\n",
       "      <td>...</td>\n",
       "      <td>...</td>\n",
       "      <td>...</td>\n",
       "      <td>...</td>\n",
       "      <td>...</td>\n",
       "      <td>...</td>\n",
       "      <td>...</td>\n",
       "      <td>...</td>\n",
       "      <td>...</td>\n",
       "      <td>...</td>\n",
       "      <td>...</td>\n",
       "      <td>...</td>\n",
       "      <td>...</td>\n",
       "      <td>...</td>\n",
       "      <td>...</td>\n",
       "      <td>...</td>\n",
       "      <td>...</td>\n",
       "    </tr>\n",
       "    <tr>\n",
       "      <th>1130</th>\n",
       "      <td>0.323413</td>\n",
       "      <td>0.377040</td>\n",
       "      <td>0.530558</td>\n",
       "      <td>0.743794</td>\n",
       "      <td>0.565189</td>\n",
       "      <td>0.416040</td>\n",
       "      <td>0.559393</td>\n",
       "      <td>0.730927</td>\n",
       "      <td>0.000000</td>\n",
       "      <td>0.496883</td>\n",
       "      <td>0.495749</td>\n",
       "      <td>0.802327</td>\n",
       "      <td>0.386910</td>\n",
       "      <td>0.387775</td>\n",
       "      <td>0.384594</td>\n",
       "      <td>0.411622</td>\n",
       "      <td>0.384615</td>\n",
       "    </tr>\n",
       "    <tr>\n",
       "      <th>1294</th>\n",
       "      <td>0.958777</td>\n",
       "      <td>0.612831</td>\n",
       "      <td>0.831709</td>\n",
       "      <td>0.987128</td>\n",
       "      <td>0.833768</td>\n",
       "      <td>0.790727</td>\n",
       "      <td>0.951137</td>\n",
       "      <td>0.993437</td>\n",
       "      <td>0.106300</td>\n",
       "      <td>0.987531</td>\n",
       "      <td>0.988228</td>\n",
       "      <td>0.922877</td>\n",
       "      <td>0.002767</td>\n",
       "      <td>0.010778</td>\n",
       "      <td>0.007859</td>\n",
       "      <td>0.004201</td>\n",
       "      <td>0.153846</td>\n",
       "    </tr>\n",
       "    <tr>\n",
       "      <th>860</th>\n",
       "      <td>0.344058</td>\n",
       "      <td>0.380416</td>\n",
       "      <td>0.557130</td>\n",
       "      <td>0.744101</td>\n",
       "      <td>0.540417</td>\n",
       "      <td>0.382206</td>\n",
       "      <td>0.494524</td>\n",
       "      <td>0.717801</td>\n",
       "      <td>0.000000</td>\n",
       "      <td>0.464464</td>\n",
       "      <td>0.461086</td>\n",
       "      <td>0.792147</td>\n",
       "      <td>0.426883</td>\n",
       "      <td>0.428501</td>\n",
       "      <td>0.424459</td>\n",
       "      <td>0.447398</td>\n",
       "      <td>0.339250</td>\n",
       "    </tr>\n",
       "    <tr>\n",
       "      <th>1459</th>\n",
       "      <td>0.975397</td>\n",
       "      <td>0.621835</td>\n",
       "      <td>0.975199</td>\n",
       "      <td>0.781183</td>\n",
       "      <td>0.868318</td>\n",
       "      <td>0.696742</td>\n",
       "      <td>0.873631</td>\n",
       "      <td>0.910582</td>\n",
       "      <td>0.996963</td>\n",
       "      <td>0.978803</td>\n",
       "      <td>0.979071</td>\n",
       "      <td>0.749972</td>\n",
       "      <td>0.012727</td>\n",
       "      <td>0.019949</td>\n",
       "      <td>0.016192</td>\n",
       "      <td>0.011232</td>\n",
       "      <td>0.067061</td>\n",
       "    </tr>\n",
       "    <tr>\n",
       "      <th>1126</th>\n",
       "      <td>0.321640</td>\n",
       "      <td>0.378728</td>\n",
       "      <td>0.539415</td>\n",
       "      <td>0.751762</td>\n",
       "      <td>0.561930</td>\n",
       "      <td>0.412281</td>\n",
       "      <td>0.545914</td>\n",
       "      <td>0.730927</td>\n",
       "      <td>0.000000</td>\n",
       "      <td>0.496883</td>\n",
       "      <td>0.495749</td>\n",
       "      <td>0.801678</td>\n",
       "      <td>0.385096</td>\n",
       "      <td>0.387208</td>\n",
       "      <td>0.384688</td>\n",
       "      <td>0.411622</td>\n",
       "      <td>0.319527</td>\n",
       "    </tr>\n",
       "  </tbody>\n",
       "</table>\n",
       "<p>1382 rows × 17 columns</p>\n",
       "</div>"
      ],
      "text/plain": [
       "            CE        CP      EPS1       FS1       FS2       PS1       PS2  \\\n",
       "1249  0.961536  0.700056  0.814880  0.986515  0.807040  0.730576  0.872789   \n",
       "1556  0.992330  0.625211  0.805137  0.985290  0.844850  0.779449  0.906487   \n",
       "1617  0.954572  0.601294  0.898140  0.774441  0.847458  0.659148  0.829823   \n",
       "1567  0.979799  0.617333  0.815766  0.989274  0.847458  0.766917  0.925864   \n",
       "1027  0.335041  0.392515  0.486271  0.824395  0.558670  0.433584  0.563606   \n",
       "...        ...       ...       ...       ...       ...       ...       ...   \n",
       "1130  0.323413  0.377040  0.530558  0.743794  0.565189  0.416040  0.559393   \n",
       "1294  0.958777  0.612831  0.831709  0.987128  0.833768  0.790727  0.951137   \n",
       "860   0.344058  0.380416  0.557130  0.744101  0.540417  0.382206  0.494524   \n",
       "1459  0.975397  0.621835  0.975199  0.781183  0.868318  0.696742  0.873631   \n",
       "1126  0.321640  0.378728  0.539415  0.751762  0.561930  0.412281  0.545914   \n",
       "\n",
       "           PS3       PS4       PS5       PS6        SE       TS1       TS2  \\\n",
       "1249  0.968007  0.072891  0.938279  0.938522  0.920439  0.049379  0.063534   \n",
       "1556  0.986874  0.985794  0.911471  0.910399  0.936100  0.038578  0.049021   \n",
       "1617  0.904020  0.986186  0.910224  0.910399  0.768453  0.045152  0.051692   \n",
       "1567  0.974569  0.986382  0.912718  0.912361  0.934758  0.041101  0.050771   \n",
       "1027  0.743232  0.000000  0.496259  0.493787  0.870299  0.390186  0.392857   \n",
       "...        ...       ...       ...       ...       ...       ...       ...   \n",
       "1130  0.730927  0.000000  0.496883  0.495749  0.802327  0.386910  0.387775   \n",
       "1294  0.993437  0.106300  0.987531  0.988228  0.922877  0.002767  0.010778   \n",
       "860   0.717801  0.000000  0.464464  0.461086  0.792147  0.426883  0.428501   \n",
       "1459  0.910582  0.996963  0.978803  0.979071  0.749972  0.012727  0.019949   \n",
       "1126  0.730927  0.000000  0.496883  0.495749  0.801678  0.385096  0.387208   \n",
       "\n",
       "           TS3       TS4       VS1  \n",
       "1249  0.068084  0.033344  0.149901  \n",
       "1556  0.042754  0.035378  0.104536  \n",
       "1617  0.046967  0.046964  0.102564  \n",
       "1567  0.046825  0.039358  0.094675  \n",
       "1027  0.384499  0.407465  0.370809  \n",
       "...        ...       ...       ...  \n",
       "1130  0.384594  0.411622  0.384615  \n",
       "1294  0.007859  0.004201  0.153846  \n",
       "860   0.424459  0.447398  0.339250  \n",
       "1459  0.016192  0.011232  0.067061  \n",
       "1126  0.384688  0.411622  0.319527  \n",
       "\n",
       "[1382 rows x 17 columns]"
      ]
     },
     "execution_count": 32,
     "metadata": {},
     "output_type": "execute_result"
    }
   ],
   "source": [
    "x_train"
   ]
  },
  {
   "cell_type": "code",
   "execution_count": 33,
   "id": "2d1675b7",
   "metadata": {
    "scrolled": true
   },
   "outputs": [
    {
     "data": {
      "text/html": [
       "<div>\n",
       "<style scoped>\n",
       "    .dataframe tbody tr th:only-of-type {\n",
       "        vertical-align: middle;\n",
       "    }\n",
       "\n",
       "    .dataframe tbody tr th {\n",
       "        vertical-align: top;\n",
       "    }\n",
       "\n",
       "    .dataframe thead th {\n",
       "        text-align: right;\n",
       "    }\n",
       "</style>\n",
       "<table border=\"1\" class=\"dataframe\">\n",
       "  <thead>\n",
       "    <tr style=\"text-align: right;\">\n",
       "      <th></th>\n",
       "      <th>CE</th>\n",
       "      <th>CP</th>\n",
       "      <th>EPS1</th>\n",
       "      <th>FS1</th>\n",
       "      <th>FS2</th>\n",
       "      <th>PS1</th>\n",
       "      <th>PS2</th>\n",
       "      <th>PS3</th>\n",
       "      <th>PS4</th>\n",
       "      <th>PS5</th>\n",
       "      <th>PS6</th>\n",
       "      <th>SE</th>\n",
       "      <th>TS1</th>\n",
       "      <th>TS2</th>\n",
       "      <th>TS3</th>\n",
       "      <th>TS4</th>\n",
       "      <th>VS1</th>\n",
       "      <th>cooler_eff</th>\n",
       "    </tr>\n",
       "  </thead>\n",
       "  <tbody>\n",
       "    <tr>\n",
       "      <th>1249</th>\n",
       "      <td>0.961536</td>\n",
       "      <td>0.700056</td>\n",
       "      <td>0.814880</td>\n",
       "      <td>0.986515</td>\n",
       "      <td>0.807040</td>\n",
       "      <td>0.730576</td>\n",
       "      <td>0.872789</td>\n",
       "      <td>0.968007</td>\n",
       "      <td>0.072891</td>\n",
       "      <td>0.938279</td>\n",
       "      <td>0.938522</td>\n",
       "      <td>0.920439</td>\n",
       "      <td>0.049379</td>\n",
       "      <td>0.063534</td>\n",
       "      <td>0.068084</td>\n",
       "      <td>0.033344</td>\n",
       "      <td>0.149901</td>\n",
       "      <td>100</td>\n",
       "    </tr>\n",
       "    <tr>\n",
       "      <th>1556</th>\n",
       "      <td>0.992330</td>\n",
       "      <td>0.625211</td>\n",
       "      <td>0.805137</td>\n",
       "      <td>0.985290</td>\n",
       "      <td>0.844850</td>\n",
       "      <td>0.779449</td>\n",
       "      <td>0.906487</td>\n",
       "      <td>0.986874</td>\n",
       "      <td>0.985794</td>\n",
       "      <td>0.911471</td>\n",
       "      <td>0.910399</td>\n",
       "      <td>0.936100</td>\n",
       "      <td>0.038578</td>\n",
       "      <td>0.049021</td>\n",
       "      <td>0.042754</td>\n",
       "      <td>0.035378</td>\n",
       "      <td>0.104536</td>\n",
       "      <td>100</td>\n",
       "    </tr>\n",
       "    <tr>\n",
       "      <th>1617</th>\n",
       "      <td>0.954572</td>\n",
       "      <td>0.601294</td>\n",
       "      <td>0.898140</td>\n",
       "      <td>0.774441</td>\n",
       "      <td>0.847458</td>\n",
       "      <td>0.659148</td>\n",
       "      <td>0.829823</td>\n",
       "      <td>0.904020</td>\n",
       "      <td>0.986186</td>\n",
       "      <td>0.910224</td>\n",
       "      <td>0.910399</td>\n",
       "      <td>0.768453</td>\n",
       "      <td>0.045152</td>\n",
       "      <td>0.051692</td>\n",
       "      <td>0.046967</td>\n",
       "      <td>0.046964</td>\n",
       "      <td>0.102564</td>\n",
       "      <td>100</td>\n",
       "    </tr>\n",
       "    <tr>\n",
       "      <th>1567</th>\n",
       "      <td>0.979799</td>\n",
       "      <td>0.617333</td>\n",
       "      <td>0.815766</td>\n",
       "      <td>0.989274</td>\n",
       "      <td>0.847458</td>\n",
       "      <td>0.766917</td>\n",
       "      <td>0.925864</td>\n",
       "      <td>0.974569</td>\n",
       "      <td>0.986382</td>\n",
       "      <td>0.912718</td>\n",
       "      <td>0.912361</td>\n",
       "      <td>0.934758</td>\n",
       "      <td>0.041101</td>\n",
       "      <td>0.050771</td>\n",
       "      <td>0.046825</td>\n",
       "      <td>0.039358</td>\n",
       "      <td>0.094675</td>\n",
       "      <td>100</td>\n",
       "    </tr>\n",
       "    <tr>\n",
       "      <th>1027</th>\n",
       "      <td>0.335041</td>\n",
       "      <td>0.392515</td>\n",
       "      <td>0.486271</td>\n",
       "      <td>0.824395</td>\n",
       "      <td>0.558670</td>\n",
       "      <td>0.433584</td>\n",
       "      <td>0.563606</td>\n",
       "      <td>0.743232</td>\n",
       "      <td>0.000000</td>\n",
       "      <td>0.496259</td>\n",
       "      <td>0.493787</td>\n",
       "      <td>0.870299</td>\n",
       "      <td>0.390186</td>\n",
       "      <td>0.392857</td>\n",
       "      <td>0.384499</td>\n",
       "      <td>0.407465</td>\n",
       "      <td>0.370809</td>\n",
       "      <td>20</td>\n",
       "    </tr>\n",
       "    <tr>\n",
       "      <th>...</th>\n",
       "      <td>...</td>\n",
       "      <td>...</td>\n",
       "      <td>...</td>\n",
       "      <td>...</td>\n",
       "      <td>...</td>\n",
       "      <td>...</td>\n",
       "      <td>...</td>\n",
       "      <td>...</td>\n",
       "      <td>...</td>\n",
       "      <td>...</td>\n",
       "      <td>...</td>\n",
       "      <td>...</td>\n",
       "      <td>...</td>\n",
       "      <td>...</td>\n",
       "      <td>...</td>\n",
       "      <td>...</td>\n",
       "      <td>...</td>\n",
       "      <td>...</td>\n",
       "    </tr>\n",
       "    <tr>\n",
       "      <th>1130</th>\n",
       "      <td>0.323413</td>\n",
       "      <td>0.377040</td>\n",
       "      <td>0.530558</td>\n",
       "      <td>0.743794</td>\n",
       "      <td>0.565189</td>\n",
       "      <td>0.416040</td>\n",
       "      <td>0.559393</td>\n",
       "      <td>0.730927</td>\n",
       "      <td>0.000000</td>\n",
       "      <td>0.496883</td>\n",
       "      <td>0.495749</td>\n",
       "      <td>0.802327</td>\n",
       "      <td>0.386910</td>\n",
       "      <td>0.387775</td>\n",
       "      <td>0.384594</td>\n",
       "      <td>0.411622</td>\n",
       "      <td>0.384615</td>\n",
       "      <td>20</td>\n",
       "    </tr>\n",
       "    <tr>\n",
       "      <th>1294</th>\n",
       "      <td>0.958777</td>\n",
       "      <td>0.612831</td>\n",
       "      <td>0.831709</td>\n",
       "      <td>0.987128</td>\n",
       "      <td>0.833768</td>\n",
       "      <td>0.790727</td>\n",
       "      <td>0.951137</td>\n",
       "      <td>0.993437</td>\n",
       "      <td>0.106300</td>\n",
       "      <td>0.987531</td>\n",
       "      <td>0.988228</td>\n",
       "      <td>0.922877</td>\n",
       "      <td>0.002767</td>\n",
       "      <td>0.010778</td>\n",
       "      <td>0.007859</td>\n",
       "      <td>0.004201</td>\n",
       "      <td>0.153846</td>\n",
       "      <td>100</td>\n",
       "    </tr>\n",
       "    <tr>\n",
       "      <th>860</th>\n",
       "      <td>0.344058</td>\n",
       "      <td>0.380416</td>\n",
       "      <td>0.557130</td>\n",
       "      <td>0.744101</td>\n",
       "      <td>0.540417</td>\n",
       "      <td>0.382206</td>\n",
       "      <td>0.494524</td>\n",
       "      <td>0.717801</td>\n",
       "      <td>0.000000</td>\n",
       "      <td>0.464464</td>\n",
       "      <td>0.461086</td>\n",
       "      <td>0.792147</td>\n",
       "      <td>0.426883</td>\n",
       "      <td>0.428501</td>\n",
       "      <td>0.424459</td>\n",
       "      <td>0.447398</td>\n",
       "      <td>0.339250</td>\n",
       "      <td>20</td>\n",
       "    </tr>\n",
       "    <tr>\n",
       "      <th>1459</th>\n",
       "      <td>0.975397</td>\n",
       "      <td>0.621835</td>\n",
       "      <td>0.975199</td>\n",
       "      <td>0.781183</td>\n",
       "      <td>0.868318</td>\n",
       "      <td>0.696742</td>\n",
       "      <td>0.873631</td>\n",
       "      <td>0.910582</td>\n",
       "      <td>0.996963</td>\n",
       "      <td>0.978803</td>\n",
       "      <td>0.979071</td>\n",
       "      <td>0.749972</td>\n",
       "      <td>0.012727</td>\n",
       "      <td>0.019949</td>\n",
       "      <td>0.016192</td>\n",
       "      <td>0.011232</td>\n",
       "      <td>0.067061</td>\n",
       "      <td>100</td>\n",
       "    </tr>\n",
       "    <tr>\n",
       "      <th>1126</th>\n",
       "      <td>0.321640</td>\n",
       "      <td>0.378728</td>\n",
       "      <td>0.539415</td>\n",
       "      <td>0.751762</td>\n",
       "      <td>0.561930</td>\n",
       "      <td>0.412281</td>\n",
       "      <td>0.545914</td>\n",
       "      <td>0.730927</td>\n",
       "      <td>0.000000</td>\n",
       "      <td>0.496883</td>\n",
       "      <td>0.495749</td>\n",
       "      <td>0.801678</td>\n",
       "      <td>0.385096</td>\n",
       "      <td>0.387208</td>\n",
       "      <td>0.384688</td>\n",
       "      <td>0.411622</td>\n",
       "      <td>0.319527</td>\n",
       "      <td>20</td>\n",
       "    </tr>\n",
       "  </tbody>\n",
       "</table>\n",
       "<p>1382 rows × 18 columns</p>\n",
       "</div>"
      ],
      "text/plain": [
       "            CE        CP      EPS1       FS1       FS2       PS1       PS2  \\\n",
       "1249  0.961536  0.700056  0.814880  0.986515  0.807040  0.730576  0.872789   \n",
       "1556  0.992330  0.625211  0.805137  0.985290  0.844850  0.779449  0.906487   \n",
       "1617  0.954572  0.601294  0.898140  0.774441  0.847458  0.659148  0.829823   \n",
       "1567  0.979799  0.617333  0.815766  0.989274  0.847458  0.766917  0.925864   \n",
       "1027  0.335041  0.392515  0.486271  0.824395  0.558670  0.433584  0.563606   \n",
       "...        ...       ...       ...       ...       ...       ...       ...   \n",
       "1130  0.323413  0.377040  0.530558  0.743794  0.565189  0.416040  0.559393   \n",
       "1294  0.958777  0.612831  0.831709  0.987128  0.833768  0.790727  0.951137   \n",
       "860   0.344058  0.380416  0.557130  0.744101  0.540417  0.382206  0.494524   \n",
       "1459  0.975397  0.621835  0.975199  0.781183  0.868318  0.696742  0.873631   \n",
       "1126  0.321640  0.378728  0.539415  0.751762  0.561930  0.412281  0.545914   \n",
       "\n",
       "           PS3       PS4       PS5       PS6        SE       TS1       TS2  \\\n",
       "1249  0.968007  0.072891  0.938279  0.938522  0.920439  0.049379  0.063534   \n",
       "1556  0.986874  0.985794  0.911471  0.910399  0.936100  0.038578  0.049021   \n",
       "1617  0.904020  0.986186  0.910224  0.910399  0.768453  0.045152  0.051692   \n",
       "1567  0.974569  0.986382  0.912718  0.912361  0.934758  0.041101  0.050771   \n",
       "1027  0.743232  0.000000  0.496259  0.493787  0.870299  0.390186  0.392857   \n",
       "...        ...       ...       ...       ...       ...       ...       ...   \n",
       "1130  0.730927  0.000000  0.496883  0.495749  0.802327  0.386910  0.387775   \n",
       "1294  0.993437  0.106300  0.987531  0.988228  0.922877  0.002767  0.010778   \n",
       "860   0.717801  0.000000  0.464464  0.461086  0.792147  0.426883  0.428501   \n",
       "1459  0.910582  0.996963  0.978803  0.979071  0.749972  0.012727  0.019949   \n",
       "1126  0.730927  0.000000  0.496883  0.495749  0.801678  0.385096  0.387208   \n",
       "\n",
       "           TS3       TS4       VS1  cooler_eff  \n",
       "1249  0.068084  0.033344  0.149901         100  \n",
       "1556  0.042754  0.035378  0.104536         100  \n",
       "1617  0.046967  0.046964  0.102564         100  \n",
       "1567  0.046825  0.039358  0.094675         100  \n",
       "1027  0.384499  0.407465  0.370809          20  \n",
       "...        ...       ...       ...         ...  \n",
       "1130  0.384594  0.411622  0.384615          20  \n",
       "1294  0.007859  0.004201  0.153846         100  \n",
       "860   0.424459  0.447398  0.339250          20  \n",
       "1459  0.016192  0.011232  0.067061         100  \n",
       "1126  0.384688  0.411622  0.319527          20  \n",
       "\n",
       "[1382 rows x 18 columns]"
      ]
     },
     "execution_count": 33,
     "metadata": {},
     "output_type": "execute_result"
    }
   ],
   "source": [
    "train_minmax = pd.concat([x_train,y_train],axis=1)\n",
    "train_minmax"
   ]
  },
  {
   "cell_type": "code",
   "execution_count": null,
   "id": "38e941c4",
   "metadata": {},
   "outputs": [],
   "source": []
  },
  {
   "cell_type": "markdown",
   "id": "1243f972",
   "metadata": {},
   "source": [
    "## 모델링"
   ]
  },
  {
   "cell_type": "markdown",
   "id": "90943a23",
   "metadata": {},
   "source": [
    "### decision tree"
   ]
  },
  {
   "cell_type": "code",
   "execution_count": 75,
   "id": "3f0051a0",
   "metadata": {},
   "outputs": [
    {
     "data": {
      "text/plain": [
       "DecisionTreeRegressor(ccp_alpha=0.0, criterion='mse', max_depth=None,\n",
       "                      max_features=None, max_leaf_nodes=None,\n",
       "                      min_impurity_decrease=0.0, min_impurity_split=None,\n",
       "                      min_samples_leaf=1, min_samples_split=2,\n",
       "                      min_weight_fraction_leaf=0.0, presort='deprecated',\n",
       "                      random_state=42, splitter='best')"
      ]
     },
     "execution_count": 75,
     "metadata": {},
     "output_type": "execute_result"
    }
   ],
   "source": [
    "from sklearn.tree import DecisionTreeRegressor\n",
    "\n",
    "tree_reg = DecisionTreeRegressor(random_state=42)\n",
    "tree_reg.fit(x_train,y_train)"
   ]
  },
  {
   "cell_type": "code",
   "execution_count": 76,
   "id": "c9988441",
   "metadata": {},
   "outputs": [],
   "source": [
    "features_names = x_train.columns"
   ]
  },
  {
   "cell_type": "code",
   "execution_count": 77,
   "id": "e34ab3c6",
   "metadata": {},
   "outputs": [
    {
     "data": {
      "text/plain": [
       "0.8257188348359861"
      ]
     },
     "execution_count": 77,
     "metadata": {},
     "output_type": "execute_result"
    }
   ],
   "source": [
    "from sklearn.model_selection import cross_val_score\n",
    "\n",
    "scores = cross_val_score(tree_reg,x_train,y_train,scoring='neg_mean_squared_error',cv=10)\n",
    "RMSE_tree = np.sqrt(-scores)\n",
    "RMSE_tree.mean()"
   ]
  },
  {
   "cell_type": "code",
   "execution_count": 78,
   "id": "2577fbcc",
   "metadata": {},
   "outputs": [],
   "source": [
    "#featrue importance \n",
    "def f_importances(coef, names):\n",
    "    imp = coef\n",
    "    imp,names = zip(*sorted(zip(imp,names)))\n",
    "    plt.barh(range(len(names)), imp, align='center')\n",
    "    plt.yticks(range(len(names)), names)\n",
    "    plt.title('Decision Tree Regressor Feature Importance')"
   ]
  },
  {
   "cell_type": "code",
   "execution_count": 79,
   "id": "2a25fd3c",
   "metadata": {
    "scrolled": true
   },
   "outputs": [
    {
     "data": {
      "image/png": "[encoded data removed]",
      "text/plain": [
       "<Figure size 720x576 with 1 Axes>"
      ]
     },
     "metadata": {
      "needs_background": "light"
     },
     "output_type": "display_data"
    }
   ],
   "source": [
    "plt.figure(figsize = (10,8))\n",
    "feature_imp = tree_reg.feature_importances_\n",
    "f_importances(feature_imp,features_names)"
   ]
  },
  {
   "cell_type": "code",
   "execution_count": null,
   "id": "c3457273",
   "metadata": {},
   "outputs": [],
   "source": []
  },
  {
   "cell_type": "markdown",
   "id": "9b31e870",
   "metadata": {},
   "source": [
    "### Random Forest"
   ]
  },
  {
   "cell_type": "code",
   "execution_count": 105,
   "id": "bb82cf75",
   "metadata": {},
   "outputs": [
    {
     "data": {
      "text/plain": [
       "RandomForestRegressor(bootstrap=True, ccp_alpha=0.0, criterion='mse',\n",
       "                      max_depth=None, max_features='auto', max_leaf_nodes=None,\n",
       "                      max_samples=None, min_impurity_decrease=0.0,\n",
       "                      min_impurity_split=None, min_samples_leaf=1,\n",
       "                      min_samples_split=2, min_weight_fraction_leaf=0.0,\n",
       "                      n_estimators=100, n_jobs=None, oob_score=False,\n",
       "                      random_state=42, verbose=0, warm_start=False)"
      ]
     },
     "execution_count": 105,
     "metadata": {},
     "output_type": "execute_result"
    }
   ],
   "source": [
    "from sklearn.ensemble import RandomForestRegressor\n",
    "rf = RandomForestRegressor(random_state=42)\n",
    "rf.fit(x_train,y_train)"
   ]
  },
  {
   "cell_type": "code",
   "execution_count": 106,
   "id": "8d7da7ba",
   "metadata": {},
   "outputs": [
    {
     "data": {
      "text/plain": [
       "1.263854699789768"
      ]
     },
     "execution_count": 106,
     "metadata": {},
     "output_type": "execute_result"
    }
   ],
   "source": [
    "from sklearn.model_selection import cross_val_score\n",
    "\n",
    "scores = cross_val_score(rf,x_train,y_train,scoring='neg_mean_squared_error',cv=10)\n",
    "RMSE_rf = np.sqrt(-scores)\n",
    "RMSE_rf.mean()"
   ]
  },
  {
   "cell_type": "code",
   "execution_count": null,
   "id": "cb281679",
   "metadata": {},
   "outputs": [],
   "source": []
  },
  {
   "cell_type": "markdown",
   "id": "18150e80",
   "metadata": {},
   "source": [
    "### Extra Tree"
   ]
  },
  {
   "cell_type": "code",
   "execution_count": 107,
   "id": "236576a1",
   "metadata": {},
   "outputs": [
    {
     "data": {
      "text/plain": [
       "ExtraTreesRegressor(bootstrap=False, ccp_alpha=0.0, criterion='mse',\n",
       "                    max_depth=None, max_features='auto', max_leaf_nodes=None,\n",
       "                    max_samples=None, min_impurity_decrease=0.0,\n",
       "                    min_impurity_split=None, min_samples_leaf=1,\n",
       "                    min_samples_split=2, min_weight_fraction_leaf=0.0,\n",
       "                    n_estimators=100, n_jobs=None, oob_score=False,\n",
       "                    random_state=42, verbose=0, warm_start=False)"
      ]
     },
     "execution_count": 107,
     "metadata": {},
     "output_type": "execute_result"
    }
   ],
   "source": [
    "from sklearn.ensemble import ExtraTreesRegressor\n",
    "et = ExtraTreesRegressor(random_state=42)\n",
    "et.fit(x_train,y_train)"
   ]
  },
  {
   "cell_type": "code",
   "execution_count": 108,
   "id": "402510f9",
   "metadata": {},
   "outputs": [
    {
     "data": {
      "text/plain": [
       "0.9289798013190154"
      ]
     },
     "execution_count": 108,
     "metadata": {},
     "output_type": "execute_result"
    }
   ],
   "source": [
    "from sklearn.model_selection import cross_val_score\n",
    "\n",
    "scores = cross_val_score(et,x_train,y_train,scoring='neg_mean_squared_error',cv=10)\n",
    "RMSE_et = np.sqrt(-scores)\n",
    "RMSE_et.mean()"
   ]
  },
  {
   "cell_type": "code",
   "execution_count": null,
   "id": "4f67b644",
   "metadata": {},
   "outputs": [],
   "source": []
  },
  {
   "cell_type": "markdown",
   "id": "b1b96327",
   "metadata": {},
   "source": [
    "### Gradient Boost"
   ]
  },
  {
   "cell_type": "code",
   "execution_count": 89,
   "id": "aca2060e",
   "metadata": {},
   "outputs": [
    {
     "data": {
      "text/plain": [
       "GradientBoostingRegressor(alpha=0.9, ccp_alpha=0.0, criterion='friedman_mse',\n",
       "                          init=None, learning_rate=0.1, loss='ls', max_depth=3,\n",
       "                          max_features=None, max_leaf_nodes=None,\n",
       "                          min_impurity_decrease=0.0, min_impurity_split=None,\n",
       "                          min_samples_leaf=1, min_samples_split=2,\n",
       "                          min_weight_fraction_leaf=0.0, n_estimators=100,\n",
       "                          n_iter_no_change=None, presort='deprecated',\n",
       "                          random_state=42, subsample=1.0, tol=0.0001,\n",
       "                          validation_fraction=0.1, verbose=0, warm_start=False)"
      ]
     },
     "execution_count": 89,
     "metadata": {},
     "output_type": "execute_result"
    }
   ],
   "source": [
    "from sklearn.ensemble import GradientBoostingRegressor\n",
    "grb = GradientBoostingRegressor(random_state=42)\n",
    "grb.fit(x_train,y_train)"
   ]
  },
  {
   "cell_type": "code",
   "execution_count": 91,
   "id": "4cfe5d5a",
   "metadata": {},
   "outputs": [
    {
     "data": {
      "text/plain": [
       "0.9192546096881259"
      ]
     },
     "execution_count": 91,
     "metadata": {},
     "output_type": "execute_result"
    }
   ],
   "source": [
    "from sklearn.model_selection import cross_val_score\n",
    "\n",
    "scores = cross_val_score(grb,x_train,y_train,scoring='neg_mean_squared_error',cv=10)\n",
    "RMSE_grb = np.sqrt(-scores)\n",
    "RMSE_grb.mean()"
   ]
  },
  {
   "cell_type": "code",
   "execution_count": 92,
   "id": "45877b96",
   "metadata": {},
   "outputs": [],
   "source": [
    "#featrue importance \n",
    "def f_importances(coef, names):\n",
    "    imp = coef\n",
    "    imp,names = zip(*sorted(zip(imp,names)))\n",
    "    plt.barh(range(len(names)), imp, align='center')\n",
    "    plt.yticks(range(len(names)), names)\n",
    "    plt.title('Gradient Boosting Regressor Feature Importance')"
   ]
  },
  {
   "cell_type": "code",
   "execution_count": 93,
   "id": "1e0c7639",
   "metadata": {
    "scrolled": true
   },
   "outputs": [
    {
     "data": {
      "image/png": "[encoded data removed]",
      "text/plain": [
       "<Figure size 720x576 with 1 Axes>"
      ]
     },
     "metadata": {
      "needs_background": "light"
     },
     "output_type": "display_data"
    }
   ],
   "source": [
    "plt.figure(figsize = (10,8))\n",
    "feature_imp = grb.feature_importances_\n",
    "f_importances(feature_imp,features_names)"
   ]
  },
  {
   "cell_type": "code",
   "execution_count": null,
   "id": "5f5b463a",
   "metadata": {},
   "outputs": [],
   "source": []
  },
  {
   "cell_type": "markdown",
   "id": "4274500a",
   "metadata": {},
   "source": [
    "### AdaBoost"
   ]
  },
  {
   "cell_type": "code",
   "execution_count": 82,
   "id": "27ce3683",
   "metadata": {},
   "outputs": [
    {
     "data": {
      "text/plain": [
       "AdaBoostRegressor(base_estimator=None, learning_rate=1.0, loss='linear',\n",
       "                  n_estimators=50, random_state=42)"
      ]
     },
     "execution_count": 82,
     "metadata": {},
     "output_type": "execute_result"
    }
   ],
   "source": [
    "from sklearn.ensemble import AdaBoostRegressor\n",
    "ada = AdaBoostRegressor(random_state=42)\n",
    "ada.fit(x_train,y_train)"
   ]
  },
  {
   "cell_type": "code",
   "execution_count": 84,
   "id": "d86e0805",
   "metadata": {},
   "outputs": [
    {
     "data": {
      "text/plain": [
       "0.9704324450649734"
      ]
     },
     "execution_count": 84,
     "metadata": {},
     "output_type": "execute_result"
    }
   ],
   "source": [
    "from sklearn.model_selection import cross_val_score\n",
    "\n",
    "scores = cross_val_score(ada,x_train,y_train,scoring='neg_mean_squared_error',cv=10)\n",
    "RMSE_ada = np.sqrt(-scores)\n",
    "RMSE_ada.mean()"
   ]
  },
  {
   "cell_type": "code",
   "execution_count": 85,
   "id": "fd40b18c",
   "metadata": {},
   "outputs": [],
   "source": [
    "#featrue importance \n",
    "def f_importances(coef, names):\n",
    "    imp = coef\n",
    "    imp,names = zip(*sorted(zip(imp,names)))\n",
    "    plt.barh(range(len(names)), imp, align='center')\n",
    "    plt.yticks(range(len(names)), names)\n",
    "    plt.title('AdaBoost Regressor Feature Importance')"
   ]
  },
  {
   "cell_type": "code",
   "execution_count": 87,
   "id": "983217da",
   "metadata": {
    "scrolled": false
   },
   "outputs": [
    {
     "data": {
      "image/png": "[encoded data removed]",
      "text/plain": [
       "<Figure size 720x576 with 1 Axes>"
      ]
     },
     "metadata": {
      "needs_background": "light"
     },
     "output_type": "display_data"
    }
   ],
   "source": [
    "plt.figure(figsize = (10,8))\n",
    "feature_imp = ada.feature_importances_\n",
    "f_importances(feature_imp,features_names)"
   ]
  },
  {
   "cell_type": "code",
   "execution_count": null,
   "id": "862a1a80",
   "metadata": {},
   "outputs": [],
   "source": []
  },
  {
   "cell_type": "markdown",
   "id": "09a3570b",
   "metadata": {},
   "source": [
    "### XGB"
   ]
  },
  {
   "cell_type": "code",
   "execution_count": 98,
   "id": "f4127c9a",
   "metadata": {
    "scrolled": true
   },
   "outputs": [
    {
     "data": {
      "text/plain": [
       "XGBRegressor(base_score=0.5, booster='gbtree', colsample_bylevel=1,\n",
       "             colsample_bynode=1, colsample_bytree=1, gamma=0, gpu_id=-1,\n",
       "             importance_type='gain', interaction_constraints='',\n",
       "             learning_rate=0.300000012, max_delta_step=0, max_depth=6,\n",
       "             min_child_weight=1, missing=nan, monotone_constraints='()',\n",
       "             n_estimators=100, n_jobs=16, num_parallel_tree=1,\n",
       "             objective='reg:squarederror', random_state=42, reg_alpha=0,\n",
       "             reg_lambda=1, scale_pos_weight=1, subsample=1, tree_method='exact',\n",
       "             validate_parameters=1, verbosity=None)"
      ]
     },
     "execution_count": 98,
     "metadata": {},
     "output_type": "execute_result"
    }
   ],
   "source": [
    "from xgboost import XGBRegressor \n",
    "\n",
    "xgb = XGBRegressor(random_state=42)\n",
    "xgb.fit(x_train, y_train)"
   ]
  },
  {
   "cell_type": "code",
   "execution_count": 102,
   "id": "8b06bed4",
   "metadata": {},
   "outputs": [
    {
     "data": {
      "text/plain": [
       "1.03039537335381"
      ]
     },
     "execution_count": 102,
     "metadata": {},
     "output_type": "execute_result"
    }
   ],
   "source": [
    "from sklearn.model_selection import cross_val_score\n",
    "\n",
    "scores = cross_val_score(xgb,x_train,y_train,scoring='neg_mean_squared_error',cv=10)\n",
    "RMSE_xgb = np.sqrt(-scores)\n",
    "RMSE_xgb.mean()"
   ]
  },
  {
   "cell_type": "code",
   "execution_count": 100,
   "id": "f8add141",
   "metadata": {},
   "outputs": [],
   "source": [
    "#featrue importance \n",
    "def f_importances(coef, names):\n",
    "    imp = coef\n",
    "    imp,names = zip(*sorted(zip(imp,names)))\n",
    "    plt.barh(range(len(names)), imp, align='center')\n",
    "    plt.yticks(range(len(names)), names)\n",
    "    plt.title('XGBoost Feature Importance')"
   ]
  },
  {
   "cell_type": "code",
   "execution_count": 103,
   "id": "7f0802f2",
   "metadata": {
    "scrolled": true
   },
   "outputs": [
    {
     "data": {
      "image/png": "[encoded data removed]",
      "text/plain": [
       "<Figure size 720x576 with 1 Axes>"
      ]
     },
     "metadata": {
      "needs_background": "light"
     },
     "output_type": "display_data"
    }
   ],
   "source": [
    "plt.figure(figsize = (10,8))\n",
    "feature_imp = xgb.feature_importances_\n",
    "f_importances(feature_imp,features_names)"
   ]
  },
  {
   "cell_type": "code",
   "execution_count": null,
   "id": "f17d3324",
   "metadata": {},
   "outputs": [],
   "source": []
  },
  {
   "cell_type": "markdown",
   "id": "b80ec33b",
   "metadata": {},
   "source": [
    "### LGBM"
   ]
  },
  {
   "cell_type": "code",
   "execution_count": 94,
   "id": "7b3a39ee",
   "metadata": {
    "scrolled": true
   },
   "outputs": [
    {
     "data": {
      "text/plain": [
       "LGBMRegressor(boosting_type='gbdt', class_weight=None, colsample_bytree=1.0,\n",
       "              importance_type='split', learning_rate=0.1, max_depth=-1,\n",
       "              min_child_samples=20, min_child_weight=0.001, min_split_gain=0.0,\n",
       "              n_estimators=100, n_jobs=-1, num_leaves=31, objective=None,\n",
       "              random_state=42, reg_alpha=0.0, reg_lambda=0.0, silent=True,\n",
       "              subsample=1.0, subsample_for_bin=200000, subsample_freq=0)"
      ]
     },
     "execution_count": 94,
     "metadata": {},
     "output_type": "execute_result"
    }
   ],
   "source": [
    "from lightgbm import LGBMRegressor\n",
    "lgb = LGBMRegressor(random_state=42)\n",
    "lgb.fit(x_train,y_train)"
   ]
  },
  {
   "cell_type": "code",
   "execution_count": 97,
   "id": "9e322bc2",
   "metadata": {},
   "outputs": [
    {
     "data": {
      "text/plain": [
       "1.6976891902052014"
      ]
     },
     "execution_count": 97,
     "metadata": {},
     "output_type": "execute_result"
    }
   ],
   "source": [
    "from sklearn.model_selection import cross_val_score\n",
    "\n",
    "scores = cross_val_score(lgb,x_train,y_train,scoring='neg_mean_squared_error',cv=10)\n",
    "RMSE_lgb = np.sqrt(-scores)\n",
    "RMSE_lgb.mean()"
   ]
  },
  {
   "cell_type": "code",
   "execution_count": 95,
   "id": "0c187e19",
   "metadata": {},
   "outputs": [],
   "source": [
    "#featrue importance \n",
    "def f_importances(coef, names):\n",
    "    imp = coef\n",
    "    imp,names = zip(*sorted(zip(imp,names)))\n",
    "    plt.barh(range(len(names)), imp, align='center')\n",
    "    plt.yticks(range(len(names)), names)\n",
    "    plt.title('LGBM Feature Importance')"
   ]
  },
  {
   "cell_type": "code",
   "execution_count": 96,
   "id": "ed766761",
   "metadata": {
    "scrolled": false
   },
   "outputs": [
    {
     "data": {
      "image/png": "[encoded data removed]",
      "text/plain": [
       "<Figure size 720x576 with 1 Axes>"
      ]
     },
     "metadata": {
      "needs_background": "light"
     },
     "output_type": "display_data"
    }
   ],
   "source": [
    "plt.figure(figsize = (10,8))\n",
    "feature_imp = lgb.feature_importances_\n",
    "f_importances(feature_imp,features_names)"
   ]
  },
  {
   "cell_type": "code",
   "execution_count": null,
   "id": "ddf8a9f8",
   "metadata": {},
   "outputs": [],
   "source": []
  },
  {
   "cell_type": "markdown",
   "id": "de510607",
   "metadata": {},
   "source": [
    "### AutoML"
   ]
  },
  {
   "cell_type": "code",
   "execution_count": 35,
   "id": "2484534d",
   "metadata": {},
   "outputs": [],
   "source": [
    "from pycaret.regression import *"
   ]
  },
  {
   "cell_type": "code",
   "execution_count": 36,
   "id": "75edf1ab",
   "metadata": {
    "scrolled": true
   },
   "outputs": [
    {
     "data": {
      "text/html": [
       "<style  type=\"text/css\" >\n",
       "</style><table id=\"T_66413_\" ><thead>    <tr>        <th class=\"blank level0\" ></th>        <th class=\"col_heading level0 col0\" >Description</th>        <th class=\"col_heading level0 col1\" >Value</th>    </tr></thead><tbody>\n",
       "                <tr>\n",
       "                        <th id=\"T_66413_level0_row0\" class=\"row_heading level0 row0\" >0</th>\n",
       "                        <td id=\"T_66413_row0_col0\" class=\"data row0 col0\" >session_id</td>\n",
       "                        <td id=\"T_66413_row0_col1\" class=\"data row0 col1\" >6028</td>\n",
       "            </tr>\n",
       "            <tr>\n",
       "                        <th id=\"T_66413_level0_row1\" class=\"row_heading level0 row1\" >1</th>\n",
       "                        <td id=\"T_66413_row1_col0\" class=\"data row1 col0\" >Target</td>\n",
       "                        <td id=\"T_66413_row1_col1\" class=\"data row1 col1\" >cooler_eff</td>\n",
       "            </tr>\n",
       "            <tr>\n",
       "                        <th id=\"T_66413_level0_row2\" class=\"row_heading level0 row2\" >2</th>\n",
       "                        <td id=\"T_66413_row2_col0\" class=\"data row2 col0\" >Original Data</td>\n",
       "                        <td id=\"T_66413_row2_col1\" class=\"data row2 col1\" >(1382, 18)</td>\n",
       "            </tr>\n",
       "            <tr>\n",
       "                        <th id=\"T_66413_level0_row3\" class=\"row_heading level0 row3\" >3</th>\n",
       "                        <td id=\"T_66413_row3_col0\" class=\"data row3 col0\" >Missing Values</td>\n",
       "                        <td id=\"T_66413_row3_col1\" class=\"data row3 col1\" >False</td>\n",
       "            </tr>\n",
       "            <tr>\n",
       "                        <th id=\"T_66413_level0_row4\" class=\"row_heading level0 row4\" >4</th>\n",
       "                        <td id=\"T_66413_row4_col0\" class=\"data row4 col0\" >Numeric Features</td>\n",
       "                        <td id=\"T_66413_row4_col1\" class=\"data row4 col1\" >17</td>\n",
       "            </tr>\n",
       "            <tr>\n",
       "                        <th id=\"T_66413_level0_row5\" class=\"row_heading level0 row5\" >5</th>\n",
       "                        <td id=\"T_66413_row5_col0\" class=\"data row5 col0\" >Categorical Features</td>\n",
       "                        <td id=\"T_66413_row5_col1\" class=\"data row5 col1\" >0</td>\n",
       "            </tr>\n",
       "            <tr>\n",
       "                        <th id=\"T_66413_level0_row6\" class=\"row_heading level0 row6\" >6</th>\n",
       "                        <td id=\"T_66413_row6_col0\" class=\"data row6 col0\" >Ordinal Features</td>\n",
       "                        <td id=\"T_66413_row6_col1\" class=\"data row6 col1\" >False</td>\n",
       "            </tr>\n",
       "            <tr>\n",
       "                        <th id=\"T_66413_level0_row7\" class=\"row_heading level0 row7\" >7</th>\n",
       "                        <td id=\"T_66413_row7_col0\" class=\"data row7 col0\" >High Cardinality Features</td>\n",
       "                        <td id=\"T_66413_row7_col1\" class=\"data row7 col1\" >False</td>\n",
       "            </tr>\n",
       "            <tr>\n",
       "                        <th id=\"T_66413_level0_row8\" class=\"row_heading level0 row8\" >8</th>\n",
       "                        <td id=\"T_66413_row8_col0\" class=\"data row8 col0\" >High Cardinality Method</td>\n",
       "                        <td id=\"T_66413_row8_col1\" class=\"data row8 col1\" >None</td>\n",
       "            </tr>\n",
       "            <tr>\n",
       "                        <th id=\"T_66413_level0_row9\" class=\"row_heading level0 row9\" >9</th>\n",
       "                        <td id=\"T_66413_row9_col0\" class=\"data row9 col0\" >Transformed Train Set</td>\n",
       "                        <td id=\"T_66413_row9_col1\" class=\"data row9 col1\" >(967, 12)</td>\n",
       "            </tr>\n",
       "            <tr>\n",
       "                        <th id=\"T_66413_level0_row10\" class=\"row_heading level0 row10\" >10</th>\n",
       "                        <td id=\"T_66413_row10_col0\" class=\"data row10 col0\" >Transformed Test Set</td>\n",
       "                        <td id=\"T_66413_row10_col1\" class=\"data row10 col1\" >(415, 12)</td>\n",
       "            </tr>\n",
       "            <tr>\n",
       "                        <th id=\"T_66413_level0_row11\" class=\"row_heading level0 row11\" >11</th>\n",
       "                        <td id=\"T_66413_row11_col0\" class=\"data row11 col0\" >Shuffle Train-Test</td>\n",
       "                        <td id=\"T_66413_row11_col1\" class=\"data row11 col1\" >True</td>\n",
       "            </tr>\n",
       "            <tr>\n",
       "                        <th id=\"T_66413_level0_row12\" class=\"row_heading level0 row12\" >12</th>\n",
       "                        <td id=\"T_66413_row12_col0\" class=\"data row12 col0\" >Stratify Train-Test</td>\n",
       "                        <td id=\"T_66413_row12_col1\" class=\"data row12 col1\" >False</td>\n",
       "            </tr>\n",
       "            <tr>\n",
       "                        <th id=\"T_66413_level0_row13\" class=\"row_heading level0 row13\" >13</th>\n",
       "                        <td id=\"T_66413_row13_col0\" class=\"data row13 col0\" >Fold Generator</td>\n",
       "                        <td id=\"T_66413_row13_col1\" class=\"data row13 col1\" >KFold</td>\n",
       "            </tr>\n",
       "            <tr>\n",
       "                        <th id=\"T_66413_level0_row14\" class=\"row_heading level0 row14\" >14</th>\n",
       "                        <td id=\"T_66413_row14_col0\" class=\"data row14 col0\" >Fold Number</td>\n",
       "                        <td id=\"T_66413_row14_col1\" class=\"data row14 col1\" >10</td>\n",
       "            </tr>\n",
       "            <tr>\n",
       "                        <th id=\"T_66413_level0_row15\" class=\"row_heading level0 row15\" >15</th>\n",
       "                        <td id=\"T_66413_row15_col0\" class=\"data row15 col0\" >CPU Jobs</td>\n",
       "                        <td id=\"T_66413_row15_col1\" class=\"data row15 col1\" >-1</td>\n",
       "            </tr>\n",
       "            <tr>\n",
       "                        <th id=\"T_66413_level0_row16\" class=\"row_heading level0 row16\" >16</th>\n",
       "                        <td id=\"T_66413_row16_col0\" class=\"data row16 col0\" >Use GPU</td>\n",
       "                        <td id=\"T_66413_row16_col1\" class=\"data row16 col1\" >False</td>\n",
       "            </tr>\n",
       "            <tr>\n",
       "                        <th id=\"T_66413_level0_row17\" class=\"row_heading level0 row17\" >17</th>\n",
       "                        <td id=\"T_66413_row17_col0\" class=\"data row17 col0\" >Log Experiment</td>\n",
       "                        <td id=\"T_66413_row17_col1\" class=\"data row17 col1\" >False</td>\n",
       "            </tr>\n",
       "            <tr>\n",
       "                        <th id=\"T_66413_level0_row18\" class=\"row_heading level0 row18\" >18</th>\n",
       "                        <td id=\"T_66413_row18_col0\" class=\"data row18 col0\" >Experiment Name</td>\n",
       "                        <td id=\"T_66413_row18_col1\" class=\"data row18 col1\" >reg-default-name</td>\n",
       "            </tr>\n",
       "            <tr>\n",
       "                        <th id=\"T_66413_level0_row19\" class=\"row_heading level0 row19\" >19</th>\n",
       "                        <td id=\"T_66413_row19_col0\" class=\"data row19 col0\" >USI</td>\n",
       "                        <td id=\"T_66413_row19_col1\" class=\"data row19 col1\" >2ae7</td>\n",
       "            </tr>\n",
       "            <tr>\n",
       "                        <th id=\"T_66413_level0_row20\" class=\"row_heading level0 row20\" >20</th>\n",
       "                        <td id=\"T_66413_row20_col0\" class=\"data row20 col0\" >Imputation Type</td>\n",
       "                        <td id=\"T_66413_row20_col1\" class=\"data row20 col1\" >simple</td>\n",
       "            </tr>\n",
       "            <tr>\n",
       "                        <th id=\"T_66413_level0_row21\" class=\"row_heading level0 row21\" >21</th>\n",
       "                        <td id=\"T_66413_row21_col0\" class=\"data row21 col0\" >Iterative Imputation Iteration</td>\n",
       "                        <td id=\"T_66413_row21_col1\" class=\"data row21 col1\" >None</td>\n",
       "            </tr>\n",
       "            <tr>\n",
       "                        <th id=\"T_66413_level0_row22\" class=\"row_heading level0 row22\" >22</th>\n",
       "                        <td id=\"T_66413_row22_col0\" class=\"data row22 col0\" >Numeric Imputer</td>\n",
       "                        <td id=\"T_66413_row22_col1\" class=\"data row22 col1\" >mean</td>\n",
       "            </tr>\n",
       "            <tr>\n",
       "                        <th id=\"T_66413_level0_row23\" class=\"row_heading level0 row23\" >23</th>\n",
       "                        <td id=\"T_66413_row23_col0\" class=\"data row23 col0\" >Iterative Imputation Numeric Model</td>\n",
       "                        <td id=\"T_66413_row23_col1\" class=\"data row23 col1\" >None</td>\n",
       "            </tr>\n",
       "            <tr>\n",
       "                        <th id=\"T_66413_level0_row24\" class=\"row_heading level0 row24\" >24</th>\n",
       "                        <td id=\"T_66413_row24_col0\" class=\"data row24 col0\" >Categorical Imputer</td>\n",
       "                        <td id=\"T_66413_row24_col1\" class=\"data row24 col1\" >constant</td>\n",
       "            </tr>\n",
       "            <tr>\n",
       "                        <th id=\"T_66413_level0_row25\" class=\"row_heading level0 row25\" >25</th>\n",
       "                        <td id=\"T_66413_row25_col0\" class=\"data row25 col0\" >Iterative Imputation Categorical Model</td>\n",
       "                        <td id=\"T_66413_row25_col1\" class=\"data row25 col1\" >None</td>\n",
       "            </tr>\n",
       "            <tr>\n",
       "                        <th id=\"T_66413_level0_row26\" class=\"row_heading level0 row26\" >26</th>\n",
       "                        <td id=\"T_66413_row26_col0\" class=\"data row26 col0\" >Unknown Categoricals Handling</td>\n",
       "                        <td id=\"T_66413_row26_col1\" class=\"data row26 col1\" >least_frequent</td>\n",
       "            </tr>\n",
       "            <tr>\n",
       "                        <th id=\"T_66413_level0_row27\" class=\"row_heading level0 row27\" >27</th>\n",
       "                        <td id=\"T_66413_row27_col0\" class=\"data row27 col0\" >Normalize</td>\n",
       "                        <td id=\"T_66413_row27_col1\" class=\"data row27 col1\" >False</td>\n",
       "            </tr>\n",
       "            <tr>\n",
       "                        <th id=\"T_66413_level0_row28\" class=\"row_heading level0 row28\" >28</th>\n",
       "                        <td id=\"T_66413_row28_col0\" class=\"data row28 col0\" >Normalize Method</td>\n",
       "                        <td id=\"T_66413_row28_col1\" class=\"data row28 col1\" >None</td>\n",
       "            </tr>\n",
       "            <tr>\n",
       "                        <th id=\"T_66413_level0_row29\" class=\"row_heading level0 row29\" >29</th>\n",
       "                        <td id=\"T_66413_row29_col0\" class=\"data row29 col0\" >Transformation</td>\n",
       "                        <td id=\"T_66413_row29_col1\" class=\"data row29 col1\" >False</td>\n",
       "            </tr>\n",
       "            <tr>\n",
       "                        <th id=\"T_66413_level0_row30\" class=\"row_heading level0 row30\" >30</th>\n",
       "                        <td id=\"T_66413_row30_col0\" class=\"data row30 col0\" >Transformation Method</td>\n",
       "                        <td id=\"T_66413_row30_col1\" class=\"data row30 col1\" >None</td>\n",
       "            </tr>\n",
       "            <tr>\n",
       "                        <th id=\"T_66413_level0_row31\" class=\"row_heading level0 row31\" >31</th>\n",
       "                        <td id=\"T_66413_row31_col0\" class=\"data row31 col0\" >PCA</td>\n",
       "                        <td id=\"T_66413_row31_col1\" class=\"data row31 col1\" >False</td>\n",
       "            </tr>\n",
       "            <tr>\n",
       "                        <th id=\"T_66413_level0_row32\" class=\"row_heading level0 row32\" >32</th>\n",
       "                        <td id=\"T_66413_row32_col0\" class=\"data row32 col0\" >PCA Method</td>\n",
       "                        <td id=\"T_66413_row32_col1\" class=\"data row32 col1\" >None</td>\n",
       "            </tr>\n",
       "            <tr>\n",
       "                        <th id=\"T_66413_level0_row33\" class=\"row_heading level0 row33\" >33</th>\n",
       "                        <td id=\"T_66413_row33_col0\" class=\"data row33 col0\" >PCA Components</td>\n",
       "                        <td id=\"T_66413_row33_col1\" class=\"data row33 col1\" >None</td>\n",
       "            </tr>\n",
       "            <tr>\n",
       "                        <th id=\"T_66413_level0_row34\" class=\"row_heading level0 row34\" >34</th>\n",
       "                        <td id=\"T_66413_row34_col0\" class=\"data row34 col0\" >Ignore Low Variance</td>\n",
       "                        <td id=\"T_66413_row34_col1\" class=\"data row34 col1\" >False</td>\n",
       "            </tr>\n",
       "            <tr>\n",
       "                        <th id=\"T_66413_level0_row35\" class=\"row_heading level0 row35\" >35</th>\n",
       "                        <td id=\"T_66413_row35_col0\" class=\"data row35 col0\" >Combine Rare Levels</td>\n",
       "                        <td id=\"T_66413_row35_col1\" class=\"data row35 col1\" >False</td>\n",
       "            </tr>\n",
       "            <tr>\n",
       "                        <th id=\"T_66413_level0_row36\" class=\"row_heading level0 row36\" >36</th>\n",
       "                        <td id=\"T_66413_row36_col0\" class=\"data row36 col0\" >Rare Level Threshold</td>\n",
       "                        <td id=\"T_66413_row36_col1\" class=\"data row36 col1\" >None</td>\n",
       "            </tr>\n",
       "            <tr>\n",
       "                        <th id=\"T_66413_level0_row37\" class=\"row_heading level0 row37\" >37</th>\n",
       "                        <td id=\"T_66413_row37_col0\" class=\"data row37 col0\" >Numeric Binning</td>\n",
       "                        <td id=\"T_66413_row37_col1\" class=\"data row37 col1\" >False</td>\n",
       "            </tr>\n",
       "            <tr>\n",
       "                        <th id=\"T_66413_level0_row38\" class=\"row_heading level0 row38\" >38</th>\n",
       "                        <td id=\"T_66413_row38_col0\" class=\"data row38 col0\" >Remove Outliers</td>\n",
       "                        <td id=\"T_66413_row38_col1\" class=\"data row38 col1\" >False</td>\n",
       "            </tr>\n",
       "            <tr>\n",
       "                        <th id=\"T_66413_level0_row39\" class=\"row_heading level0 row39\" >39</th>\n",
       "                        <td id=\"T_66413_row39_col0\" class=\"data row39 col0\" >Outliers Threshold</td>\n",
       "                        <td id=\"T_66413_row39_col1\" class=\"data row39 col1\" >None</td>\n",
       "            </tr>\n",
       "            <tr>\n",
       "                        <th id=\"T_66413_level0_row40\" class=\"row_heading level0 row40\" >40</th>\n",
       "                        <td id=\"T_66413_row40_col0\" class=\"data row40 col0\" >Remove Multicollinearity</td>\n",
       "                        <td id=\"T_66413_row40_col1\" class=\"data row40 col1\" >False</td>\n",
       "            </tr>\n",
       "            <tr>\n",
       "                        <th id=\"T_66413_level0_row41\" class=\"row_heading level0 row41\" >41</th>\n",
       "                        <td id=\"T_66413_row41_col0\" class=\"data row41 col0\" >Multicollinearity Threshold</td>\n",
       "                        <td id=\"T_66413_row41_col1\" class=\"data row41 col1\" >None</td>\n",
       "            </tr>\n",
       "            <tr>\n",
       "                        <th id=\"T_66413_level0_row42\" class=\"row_heading level0 row42\" >42</th>\n",
       "                        <td id=\"T_66413_row42_col0\" class=\"data row42 col0\" >Clustering</td>\n",
       "                        <td id=\"T_66413_row42_col1\" class=\"data row42 col1\" >False</td>\n",
       "            </tr>\n",
       "            <tr>\n",
       "                        <th id=\"T_66413_level0_row43\" class=\"row_heading level0 row43\" >43</th>\n",
       "                        <td id=\"T_66413_row43_col0\" class=\"data row43 col0\" >Clustering Iteration</td>\n",
       "                        <td id=\"T_66413_row43_col1\" class=\"data row43 col1\" >None</td>\n",
       "            </tr>\n",
       "            <tr>\n",
       "                        <th id=\"T_66413_level0_row44\" class=\"row_heading level0 row44\" >44</th>\n",
       "                        <td id=\"T_66413_row44_col0\" class=\"data row44 col0\" >Polynomial Features</td>\n",
       "                        <td id=\"T_66413_row44_col1\" class=\"data row44 col1\" >False</td>\n",
       "            </tr>\n",
       "            <tr>\n",
       "                        <th id=\"T_66413_level0_row45\" class=\"row_heading level0 row45\" >45</th>\n",
       "                        <td id=\"T_66413_row45_col0\" class=\"data row45 col0\" >Polynomial Degree</td>\n",
       "                        <td id=\"T_66413_row45_col1\" class=\"data row45 col1\" >None</td>\n",
       "            </tr>\n",
       "            <tr>\n",
       "                        <th id=\"T_66413_level0_row46\" class=\"row_heading level0 row46\" >46</th>\n",
       "                        <td id=\"T_66413_row46_col0\" class=\"data row46 col0\" >Trignometry Features</td>\n",
       "                        <td id=\"T_66413_row46_col1\" class=\"data row46 col1\" >False</td>\n",
       "            </tr>\n",
       "            <tr>\n",
       "                        <th id=\"T_66413_level0_row47\" class=\"row_heading level0 row47\" >47</th>\n",
       "                        <td id=\"T_66413_row47_col0\" class=\"data row47 col0\" >Polynomial Threshold</td>\n",
       "                        <td id=\"T_66413_row47_col1\" class=\"data row47 col1\" >None</td>\n",
       "            </tr>\n",
       "            <tr>\n",
       "                        <th id=\"T_66413_level0_row48\" class=\"row_heading level0 row48\" >48</th>\n",
       "                        <td id=\"T_66413_row48_col0\" class=\"data row48 col0\" >Group Features</td>\n",
       "                        <td id=\"T_66413_row48_col1\" class=\"data row48 col1\" >False</td>\n",
       "            </tr>\n",
       "            <tr>\n",
       "                        <th id=\"T_66413_level0_row49\" class=\"row_heading level0 row49\" >49</th>\n",
       "                        <td id=\"T_66413_row49_col0\" class=\"data row49 col0\" >Feature Selection</td>\n",
       "                        <td id=\"T_66413_row49_col1\" class=\"data row49 col1\" >False</td>\n",
       "            </tr>\n",
       "            <tr>\n",
       "                        <th id=\"T_66413_level0_row50\" class=\"row_heading level0 row50\" >50</th>\n",
       "                        <td id=\"T_66413_row50_col0\" class=\"data row50 col0\" >Feature Selection Method</td>\n",
       "                        <td id=\"T_66413_row50_col1\" class=\"data row50 col1\" >classic</td>\n",
       "            </tr>\n",
       "            <tr>\n",
       "                        <th id=\"T_66413_level0_row51\" class=\"row_heading level0 row51\" >51</th>\n",
       "                        <td id=\"T_66413_row51_col0\" class=\"data row51 col0\" >Features Selection Threshold</td>\n",
       "                        <td id=\"T_66413_row51_col1\" class=\"data row51 col1\" >None</td>\n",
       "            </tr>\n",
       "            <tr>\n",
       "                        <th id=\"T_66413_level0_row52\" class=\"row_heading level0 row52\" >52</th>\n",
       "                        <td id=\"T_66413_row52_col0\" class=\"data row52 col0\" >Feature Interaction</td>\n",
       "                        <td id=\"T_66413_row52_col1\" class=\"data row52 col1\" >False</td>\n",
       "            </tr>\n",
       "            <tr>\n",
       "                        <th id=\"T_66413_level0_row53\" class=\"row_heading level0 row53\" >53</th>\n",
       "                        <td id=\"T_66413_row53_col0\" class=\"data row53 col0\" >Feature Ratio</td>\n",
       "                        <td id=\"T_66413_row53_col1\" class=\"data row53 col1\" >False</td>\n",
       "            </tr>\n",
       "            <tr>\n",
       "                        <th id=\"T_66413_level0_row54\" class=\"row_heading level0 row54\" >54</th>\n",
       "                        <td id=\"T_66413_row54_col0\" class=\"data row54 col0\" >Interaction Threshold</td>\n",
       "                        <td id=\"T_66413_row54_col1\" class=\"data row54 col1\" >None</td>\n",
       "            </tr>\n",
       "            <tr>\n",
       "                        <th id=\"T_66413_level0_row55\" class=\"row_heading level0 row55\" >55</th>\n",
       "                        <td id=\"T_66413_row55_col0\" class=\"data row55 col0\" >Transform Target</td>\n",
       "                        <td id=\"T_66413_row55_col1\" class=\"data row55 col1\" >False</td>\n",
       "            </tr>\n",
       "            <tr>\n",
       "                        <th id=\"T_66413_level0_row56\" class=\"row_heading level0 row56\" >56</th>\n",
       "                        <td id=\"T_66413_row56_col0\" class=\"data row56 col0\" >Transform Target Method</td>\n",
       "                        <td id=\"T_66413_row56_col1\" class=\"data row56 col1\" >box-cox</td>\n",
       "            </tr>\n",
       "    </tbody></table>"
      ],
      "text/plain": [
       "<pandas.io.formats.style.Styler at 0x1f9b6604d00>"
      ]
     },
     "metadata": {},
     "output_type": "display_data"
    }
   ],
   "source": [
    "#표준화 데이터\n",
    "clf = setup(data=train_minmax, target='cooler_eff')"
   ]
  },
  {
   "cell_type": "code",
   "execution_count": 37,
   "id": "51efddfe",
   "metadata": {
    "scrolled": true
   },
   "outputs": [
    {
     "data": {
      "text/html": [
       "<style  type=\"text/css\" >\n",
       "    #T_87aa9_ th {\n",
       "          text-align: left;\n",
       "    }#T_87aa9_row0_col0,#T_87aa9_row0_col2,#T_87aa9_row0_col4,#T_87aa9_row0_col6,#T_87aa9_row1_col0,#T_87aa9_row1_col2,#T_87aa9_row1_col4,#T_87aa9_row1_col6,#T_87aa9_row2_col0,#T_87aa9_row2_col1,#T_87aa9_row2_col2,#T_87aa9_row2_col3,#T_87aa9_row2_col4,#T_87aa9_row2_col6,#T_87aa9_row3_col0,#T_87aa9_row3_col1,#T_87aa9_row3_col3,#T_87aa9_row4_col0,#T_87aa9_row4_col1,#T_87aa9_row4_col2,#T_87aa9_row4_col3,#T_87aa9_row4_col4,#T_87aa9_row4_col6,#T_87aa9_row5_col0,#T_87aa9_row5_col1,#T_87aa9_row5_col2,#T_87aa9_row5_col3,#T_87aa9_row5_col4,#T_87aa9_row5_col6,#T_87aa9_row6_col0,#T_87aa9_row6_col1,#T_87aa9_row6_col2,#T_87aa9_row6_col3,#T_87aa9_row6_col4,#T_87aa9_row6_col6,#T_87aa9_row7_col0,#T_87aa9_row7_col1,#T_87aa9_row7_col2,#T_87aa9_row7_col3,#T_87aa9_row7_col4,#T_87aa9_row7_col6,#T_87aa9_row8_col0,#T_87aa9_row8_col1,#T_87aa9_row8_col2,#T_87aa9_row8_col3,#T_87aa9_row8_col4,#T_87aa9_row8_col6,#T_87aa9_row9_col0,#T_87aa9_row9_col1,#T_87aa9_row9_col2,#T_87aa9_row9_col3,#T_87aa9_row9_col4,#T_87aa9_row9_col6,#T_87aa9_row10_col0,#T_87aa9_row10_col1,#T_87aa9_row10_col2,#T_87aa9_row10_col3,#T_87aa9_row10_col4,#T_87aa9_row10_col6,#T_87aa9_row11_col0,#T_87aa9_row11_col1,#T_87aa9_row11_col2,#T_87aa9_row11_col3,#T_87aa9_row11_col4,#T_87aa9_row11_col6,#T_87aa9_row12_col0,#T_87aa9_row12_col1,#T_87aa9_row12_col2,#T_87aa9_row12_col3,#T_87aa9_row12_col4,#T_87aa9_row12_col6,#T_87aa9_row13_col0,#T_87aa9_row13_col1,#T_87aa9_row13_col2,#T_87aa9_row13_col3,#T_87aa9_row13_col4,#T_87aa9_row13_col6,#T_87aa9_row14_col0,#T_87aa9_row14_col1,#T_87aa9_row14_col2,#T_87aa9_row14_col3,#T_87aa9_row14_col4,#T_87aa9_row14_col6,#T_87aa9_row15_col0,#T_87aa9_row15_col1,#T_87aa9_row15_col2,#T_87aa9_row15_col3,#T_87aa9_row15_col4,#T_87aa9_row15_col6{\n",
       "            text-align:  left;\n",
       "            text-align:  left;\n",
       "        }#T_87aa9_row0_col1,#T_87aa9_row0_col3,#T_87aa9_row0_col5,#T_87aa9_row1_col1,#T_87aa9_row1_col3,#T_87aa9_row1_col5,#T_87aa9_row2_col5,#T_87aa9_row3_col2,#T_87aa9_row3_col4,#T_87aa9_row3_col5,#T_87aa9_row3_col6,#T_87aa9_row4_col5,#T_87aa9_row5_col5,#T_87aa9_row6_col5,#T_87aa9_row7_col5,#T_87aa9_row8_col5,#T_87aa9_row9_col5,#T_87aa9_row10_col5,#T_87aa9_row11_col5,#T_87aa9_row12_col5,#T_87aa9_row13_col5,#T_87aa9_row14_col5,#T_87aa9_row15_col5{\n",
       "            text-align:  left;\n",
       "            text-align:  left;\n",
       "            background-color:  yellow;\n",
       "        }#T_87aa9_row0_col7,#T_87aa9_row2_col7,#T_87aa9_row3_col7,#T_87aa9_row4_col7,#T_87aa9_row5_col7,#T_87aa9_row7_col7,#T_87aa9_row8_col7,#T_87aa9_row10_col7,#T_87aa9_row11_col7,#T_87aa9_row13_col7{\n",
       "            text-align:  left;\n",
       "            text-align:  left;\n",
       "            background-color:  lightgrey;\n",
       "        }#T_87aa9_row1_col7,#T_87aa9_row6_col7,#T_87aa9_row9_col7,#T_87aa9_row12_col7,#T_87aa9_row14_col7,#T_87aa9_row15_col7{\n",
       "            text-align:  left;\n",
       "            text-align:  left;\n",
       "            background-color:  yellow;\n",
       "            background-color:  lightgrey;\n",
       "        }</style><table id=\"T_87aa9_\" ><thead>    <tr>        <th class=\"blank level0\" ></th>        <th class=\"col_heading level0 col0\" >Model</th>        <th class=\"col_heading level0 col1\" >MAE</th>        <th class=\"col_heading level0 col2\" >MSE</th>        <th class=\"col_heading level0 col3\" >RMSE</th>        <th class=\"col_heading level0 col4\" >R2</th>        <th class=\"col_heading level0 col5\" >RMSLE</th>        <th class=\"col_heading level0 col6\" >MAPE</th>        <th class=\"col_heading level0 col7\" >TT (Sec)</th>    </tr></thead><tbody>\n",
       "                <tr>\n",
       "                        <th id=\"T_87aa9_level0_row0\" class=\"row_heading level0 row0\" >dt</th>\n",
       "                        <td id=\"T_87aa9_row0_col0\" class=\"data row0 col0\" >Decision Tree Regressor</td>\n",
       "                        <td id=\"T_87aa9_row0_col1\" class=\"data row0 col1\" >0.1010</td>\n",
       "                        <td id=\"T_87aa9_row0_col2\" class=\"data row0 col2\" >9.8010</td>\n",
       "                        <td id=\"T_87aa9_row0_col3\" class=\"data row0 col3\" >0.9900</td>\n",
       "                        <td id=\"T_87aa9_row0_col4\" class=\"data row0 col4\" >0.9947</td>\n",
       "                        <td id=\"T_87aa9_row0_col5\" class=\"data row0 col5\" >0.0000</td>\n",
       "                        <td id=\"T_87aa9_row0_col6\" class=\"data row0 col6\" >0.0337</td>\n",
       "                        <td id=\"T_87aa9_row0_col7\" class=\"data row0 col7\" >0.2540</td>\n",
       "            </tr>\n",
       "            <tr>\n",
       "                        <th id=\"T_87aa9_level0_row1\" class=\"row_heading level0 row1\" >ada</th>\n",
       "                        <td id=\"T_87aa9_row1_col0\" class=\"data row1 col0\" >AdaBoost Regressor</td>\n",
       "                        <td id=\"T_87aa9_row1_col1\" class=\"data row1 col1\" >0.1010</td>\n",
       "                        <td id=\"T_87aa9_row1_col2\" class=\"data row1 col2\" >9.8010</td>\n",
       "                        <td id=\"T_87aa9_row1_col3\" class=\"data row1 col3\" >0.9900</td>\n",
       "                        <td id=\"T_87aa9_row1_col4\" class=\"data row1 col4\" >0.9947</td>\n",
       "                        <td id=\"T_87aa9_row1_col5\" class=\"data row1 col5\" >0.0000</td>\n",
       "                        <td id=\"T_87aa9_row1_col6\" class=\"data row1 col6\" >0.0337</td>\n",
       "                        <td id=\"T_87aa9_row1_col7\" class=\"data row1 col7\" >0.0030</td>\n",
       "            </tr>\n",
       "            <tr>\n",
       "                        <th id=\"T_87aa9_level0_row2\" class=\"row_heading level0 row2\" >gbr</th>\n",
       "                        <td id=\"T_87aa9_row2_col0\" class=\"data row2 col0\" >Gradient Boosting Regressor</td>\n",
       "                        <td id=\"T_87aa9_row2_col1\" class=\"data row2 col1\" >0.1023</td>\n",
       "                        <td id=\"T_87aa9_row2_col2\" class=\"data row2 col2\" >9.8008</td>\n",
       "                        <td id=\"T_87aa9_row2_col3\" class=\"data row2 col3\" >0.9926</td>\n",
       "                        <td id=\"T_87aa9_row2_col4\" class=\"data row2 col4\" >0.9947</td>\n",
       "                        <td id=\"T_87aa9_row2_col5\" class=\"data row2 col5\" >0.0000</td>\n",
       "                        <td id=\"T_87aa9_row2_col6\" class=\"data row2 col6\" >0.0339</td>\n",
       "                        <td id=\"T_87aa9_row2_col7\" class=\"data row2 col7\" >0.0180</td>\n",
       "            </tr>\n",
       "            <tr>\n",
       "                        <th id=\"T_87aa9_level0_row3\" class=\"row_heading level0 row3\" >et</th>\n",
       "                        <td id=\"T_87aa9_row3_col0\" class=\"data row3 col0\" >Extra Trees Regressor</td>\n",
       "                        <td id=\"T_87aa9_row3_col1\" class=\"data row3 col1\" >0.1181</td>\n",
       "                        <td id=\"T_87aa9_row3_col2\" class=\"data row3 col2\" >6.0587</td>\n",
       "                        <td id=\"T_87aa9_row3_col3\" class=\"data row3 col3\" >1.0615</td>\n",
       "                        <td id=\"T_87aa9_row3_col4\" class=\"data row3 col4\" >0.9967</td>\n",
       "                        <td id=\"T_87aa9_row3_col5\" class=\"data row3 col5\" >0.0000</td>\n",
       "                        <td id=\"T_87aa9_row3_col6\" class=\"data row3 col6\" >0.0309</td>\n",
       "                        <td id=\"T_87aa9_row3_col7\" class=\"data row3 col7\" >0.0170</td>\n",
       "            </tr>\n",
       "            <tr>\n",
       "                        <th id=\"T_87aa9_level0_row4\" class=\"row_heading level0 row4\" >xgboost</th>\n",
       "                        <td id=\"T_87aa9_row4_col0\" class=\"data row4 col0\" >Extreme Gradient Boosting</td>\n",
       "                        <td id=\"T_87aa9_row4_col1\" class=\"data row4 col1\" >0.1186</td>\n",
       "                        <td id=\"T_87aa9_row4_col2\" class=\"data row4 col2\" >10.0990</td>\n",
       "                        <td id=\"T_87aa9_row4_col3\" class=\"data row4 col3\" >1.1626</td>\n",
       "                        <td id=\"T_87aa9_row4_col4\" class=\"data row4 col4\" >0.9946</td>\n",
       "                        <td id=\"T_87aa9_row4_col5\" class=\"data row4 col5\" >0.0000</td>\n",
       "                        <td id=\"T_87aa9_row4_col6\" class=\"data row4 col6\" >0.0395</td>\n",
       "                        <td id=\"T_87aa9_row4_col7\" class=\"data row4 col7\" >0.0310</td>\n",
       "            </tr>\n",
       "            <tr>\n",
       "                        <th id=\"T_87aa9_level0_row5\" class=\"row_heading level0 row5\" >rf</th>\n",
       "                        <td id=\"T_87aa9_row5_col0\" class=\"data row5 col0\" >Random Forest Regressor</td>\n",
       "                        <td id=\"T_87aa9_row5_col1\" class=\"data row5 col1\" >0.2016</td>\n",
       "                        <td id=\"T_87aa9_row5_col2\" class=\"data row5 col2\" >10.9491</td>\n",
       "                        <td id=\"T_87aa9_row5_col3\" class=\"data row5 col3\" >1.5761</td>\n",
       "                        <td id=\"T_87aa9_row5_col4\" class=\"data row5 col4\" >0.9941</td>\n",
       "                        <td id=\"T_87aa9_row5_col5\" class=\"data row5 col5\" >0.0000</td>\n",
       "                        <td id=\"T_87aa9_row5_col6\" class=\"data row5 col6\" >0.0527</td>\n",
       "                        <td id=\"T_87aa9_row5_col7\" class=\"data row5 col7\" >0.1840</td>\n",
       "            </tr>\n",
       "            <tr>\n",
       "                        <th id=\"T_87aa9_level0_row6\" class=\"row_heading level0 row6\" >br</th>\n",
       "                        <td id=\"T_87aa9_row6_col0\" class=\"data row6 col0\" >Bayesian Ridge</td>\n",
       "                        <td id=\"T_87aa9_row6_col1\" class=\"data row6 col1\" >2.0992</td>\n",
       "                        <td id=\"T_87aa9_row6_col2\" class=\"data row6 col2\" >12.8059</td>\n",
       "                        <td id=\"T_87aa9_row6_col3\" class=\"data row6 col3\" >3.2740</td>\n",
       "                        <td id=\"T_87aa9_row6_col4\" class=\"data row6 col4\" >0.9930</td>\n",
       "                        <td id=\"T_87aa9_row6_col5\" class=\"data row6 col5\" >0.0000</td>\n",
       "                        <td id=\"T_87aa9_row6_col6\" class=\"data row6 col6\" >0.2886</td>\n",
       "                        <td id=\"T_87aa9_row6_col7\" class=\"data row6 col7\" >0.0030</td>\n",
       "            </tr>\n",
       "            <tr>\n",
       "                        <th id=\"T_87aa9_level0_row7\" class=\"row_heading level0 row7\" >lr</th>\n",
       "                        <td id=\"T_87aa9_row7_col0\" class=\"data row7 col0\" >Linear Regression</td>\n",
       "                        <td id=\"T_87aa9_row7_col1\" class=\"data row7 col1\" >2.0968</td>\n",
       "                        <td id=\"T_87aa9_row7_col2\" class=\"data row7 col2\" >12.8192</td>\n",
       "                        <td id=\"T_87aa9_row7_col3\" class=\"data row7 col3\" >3.2757</td>\n",
       "                        <td id=\"T_87aa9_row7_col4\" class=\"data row7 col4\" >0.9930</td>\n",
       "                        <td id=\"T_87aa9_row7_col5\" class=\"data row7 col5\" >0.0000</td>\n",
       "                        <td id=\"T_87aa9_row7_col6\" class=\"data row7 col6\" >0.2885</td>\n",
       "                        <td id=\"T_87aa9_row7_col7\" class=\"data row7 col7\" >0.2410</td>\n",
       "            </tr>\n",
       "            <tr>\n",
       "                        <th id=\"T_87aa9_level0_row8\" class=\"row_heading level0 row8\" >huber</th>\n",
       "                        <td id=\"T_87aa9_row8_col0\" class=\"data row8 col0\" >Huber Regressor</td>\n",
       "                        <td id=\"T_87aa9_row8_col1\" class=\"data row8 col1\" >2.0039</td>\n",
       "                        <td id=\"T_87aa9_row8_col2\" class=\"data row8 col2\" >13.2555</td>\n",
       "                        <td id=\"T_87aa9_row8_col3\" class=\"data row8 col3\" >3.2797</td>\n",
       "                        <td id=\"T_87aa9_row8_col4\" class=\"data row8 col4\" >0.9927</td>\n",
       "                        <td id=\"T_87aa9_row8_col5\" class=\"data row8 col5\" >0.0000</td>\n",
       "                        <td id=\"T_87aa9_row8_col6\" class=\"data row8 col6\" >0.2903</td>\n",
       "                        <td id=\"T_87aa9_row8_col7\" class=\"data row8 col7\" >0.0060</td>\n",
       "            </tr>\n",
       "            <tr>\n",
       "                        <th id=\"T_87aa9_level0_row9\" class=\"row_heading level0 row9\" >ridge</th>\n",
       "                        <td id=\"T_87aa9_row9_col0\" class=\"data row9 col0\" >Ridge Regression</td>\n",
       "                        <td id=\"T_87aa9_row9_col1\" class=\"data row9 col1\" >3.0732</td>\n",
       "                        <td id=\"T_87aa9_row9_col2\" class=\"data row9 col2\" >19.1090</td>\n",
       "                        <td id=\"T_87aa9_row9_col3\" class=\"data row9 col3\" >4.1975</td>\n",
       "                        <td id=\"T_87aa9_row9_col4\" class=\"data row9 col4\" >0.9894</td>\n",
       "                        <td id=\"T_87aa9_row9_col5\" class=\"data row9 col5\" >0.0000</td>\n",
       "                        <td id=\"T_87aa9_row9_col6\" class=\"data row9 col6\" >0.3756</td>\n",
       "                        <td id=\"T_87aa9_row9_col7\" class=\"data row9 col7\" >0.0030</td>\n",
       "            </tr>\n",
       "            <tr>\n",
       "                        <th id=\"T_87aa9_level0_row10\" class=\"row_heading level0 row10\" >par</th>\n",
       "                        <td id=\"T_87aa9_row10_col0\" class=\"data row10 col0\" >Passive Aggressive Regressor</td>\n",
       "                        <td id=\"T_87aa9_row10_col1\" class=\"data row10 col1\" >3.5909</td>\n",
       "                        <td id=\"T_87aa9_row10_col2\" class=\"data row10 col2\" >26.6064</td>\n",
       "                        <td id=\"T_87aa9_row10_col3\" class=\"data row10 col3\" >4.6243</td>\n",
       "                        <td id=\"T_87aa9_row10_col4\" class=\"data row10 col4\" >0.9851</td>\n",
       "                        <td id=\"T_87aa9_row10_col5\" class=\"data row10 col5\" >0.0000</td>\n",
       "                        <td id=\"T_87aa9_row10_col6\" class=\"data row10 col6\" >0.4086</td>\n",
       "                        <td id=\"T_87aa9_row10_col7\" class=\"data row10 col7\" >0.0040</td>\n",
       "            </tr>\n",
       "            <tr>\n",
       "                        <th id=\"T_87aa9_level0_row11\" class=\"row_heading level0 row11\" >lar</th>\n",
       "                        <td id=\"T_87aa9_row11_col0\" class=\"data row11 col0\" >Least Angle Regression</td>\n",
       "                        <td id=\"T_87aa9_row11_col1\" class=\"data row11 col1\" >2.4486</td>\n",
       "                        <td id=\"T_87aa9_row11_col2\" class=\"data row11 col2\" >45.6098</td>\n",
       "                        <td id=\"T_87aa9_row11_col3\" class=\"data row11 col3\" >4.7899</td>\n",
       "                        <td id=\"T_87aa9_row11_col4\" class=\"data row11 col4\" >0.9746</td>\n",
       "                        <td id=\"T_87aa9_row11_col5\" class=\"data row11 col5\" >0.0000</td>\n",
       "                        <td id=\"T_87aa9_row11_col6\" class=\"data row11 col6\" >0.3628</td>\n",
       "                        <td id=\"T_87aa9_row11_col7\" class=\"data row11 col7\" >0.0040</td>\n",
       "            </tr>\n",
       "            <tr>\n",
       "                        <th id=\"T_87aa9_level0_row12\" class=\"row_heading level0 row12\" >omp</th>\n",
       "                        <td id=\"T_87aa9_row12_col0\" class=\"data row12 col0\" >Orthogonal Matching Pursuit</td>\n",
       "                        <td id=\"T_87aa9_row12_col1\" class=\"data row12 col1\" >4.2909</td>\n",
       "                        <td id=\"T_87aa9_row12_col2\" class=\"data row12 col2\" >30.4001</td>\n",
       "                        <td id=\"T_87aa9_row12_col3\" class=\"data row12 col3\" >5.3823</td>\n",
       "                        <td id=\"T_87aa9_row12_col4\" class=\"data row12 col4\" >0.9831</td>\n",
       "                        <td id=\"T_87aa9_row12_col5\" class=\"data row12 col5\" >0.0000</td>\n",
       "                        <td id=\"T_87aa9_row12_col6\" class=\"data row12 col6\" >0.6245</td>\n",
       "                        <td id=\"T_87aa9_row12_col7\" class=\"data row12 col7\" >0.0030</td>\n",
       "            </tr>\n",
       "            <tr>\n",
       "                        <th id=\"T_87aa9_level0_row13\" class=\"row_heading level0 row13\" >lasso</th>\n",
       "                        <td id=\"T_87aa9_row13_col0\" class=\"data row13 col0\" >Lasso Regression</td>\n",
       "                        <td id=\"T_87aa9_row13_col1\" class=\"data row13 col1\" >4.6957</td>\n",
       "                        <td id=\"T_87aa9_row13_col2\" class=\"data row13 col2\" >34.3671</td>\n",
       "                        <td id=\"T_87aa9_row13_col3\" class=\"data row13 col3\" >5.7714</td>\n",
       "                        <td id=\"T_87aa9_row13_col4\" class=\"data row13 col4\" >0.9809</td>\n",
       "                        <td id=\"T_87aa9_row13_col5\" class=\"data row13 col5\" >0.0000</td>\n",
       "                        <td id=\"T_87aa9_row13_col6\" class=\"data row13 col6\" >0.3509</td>\n",
       "                        <td id=\"T_87aa9_row13_col7\" class=\"data row13 col7\" >0.1610</td>\n",
       "            </tr>\n",
       "            <tr>\n",
       "                        <th id=\"T_87aa9_level0_row14\" class=\"row_heading level0 row14\" >en</th>\n",
       "                        <td id=\"T_87aa9_row14_col0\" class=\"data row14 col0\" >Elastic Net</td>\n",
       "                        <td id=\"T_87aa9_row14_col1\" class=\"data row14 col1\" >19.6584</td>\n",
       "                        <td id=\"T_87aa9_row14_col2\" class=\"data row14 col2\" >435.8878</td>\n",
       "                        <td id=\"T_87aa9_row14_col3\" class=\"data row14 col3\" >20.8547</td>\n",
       "                        <td id=\"T_87aa9_row14_col4\" class=\"data row14 col4\" >0.7572</td>\n",
       "                        <td id=\"T_87aa9_row14_col5\" class=\"data row14 col5\" >0.0000</td>\n",
       "                        <td id=\"T_87aa9_row14_col6\" class=\"data row14 col6\" >1.7914</td>\n",
       "                        <td id=\"T_87aa9_row14_col7\" class=\"data row14 col7\" >0.0030</td>\n",
       "            </tr>\n",
       "            <tr>\n",
       "                        <th id=\"T_87aa9_level0_row15\" class=\"row_heading level0 row15\" >llar</th>\n",
       "                        <td id=\"T_87aa9_row15_col0\" class=\"data row15 col0\" >Lasso Least Angle Regression</td>\n",
       "                        <td id=\"T_87aa9_row15_col1\" class=\"data row15 col1\" >28.7516</td>\n",
       "                        <td id=\"T_87aa9_row15_col2\" class=\"data row15 col2\" >902.3108</td>\n",
       "                        <td id=\"T_87aa9_row15_col3\" class=\"data row15 col3\" >30.0266</td>\n",
       "                        <td id=\"T_87aa9_row15_col4\" class=\"data row15 col4\" >0.4966</td>\n",
       "                        <td id=\"T_87aa9_row15_col5\" class=\"data row15 col5\" >0.0000</td>\n",
       "                        <td id=\"T_87aa9_row15_col6\" class=\"data row15 col6\" >2.9243</td>\n",
       "                        <td id=\"T_87aa9_row15_col7\" class=\"data row15 col7\" >0.0030</td>\n",
       "            </tr>\n",
       "    </tbody></table>"
      ],
      "text/plain": [
       "<pandas.io.formats.style.Styler at 0x1f9b52e3820>"
      ]
     },
     "metadata": {},
     "output_type": "display_data"
    }
   ],
   "source": [
    "best5_minmax = compare_models(sort='RMSE', n_select=5, exclude=['lightgbm'])"
   ]
  }
 ],
 "metadata": {
  "kernelspec": {
   "display_name": "Python 3",
   "language": "python",
   "name": "python3"
  },
  "language_info": {
   "codemirror_mode": {
    "name": "ipython",
    "version": 3
   },
   "file_extension": ".py",
   "mimetype": "text/x-python",
   "name": "python",
   "nbconvert_exporter": "python",
   "pygments_lexer": "ipython3",
   "version": "3.8.8"
  }
 },
 "nbformat": 4,
 "nbformat_minor": 5
}
