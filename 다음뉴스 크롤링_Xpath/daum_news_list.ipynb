{
 "cells": [
  {
   "cell_type": "code",
   "execution_count": 11,
   "metadata": {},
   "outputs": [],
   "source": [
    "import requests\n",
    "import lxml.html\n",
    "import pandas as pd\n",
    "import sqlite3\n",
    "from pandas.io import sql\n",
    "import os"
   ]
  },
  {
   "cell_type": "code",
   "execution_count": 12,
   "metadata": {
    "scrolled": true
   },
   "outputs": [],
   "source": [
    "import re\n",
    "import string\n",
    "\n",
    "# url = 'https://news.v.daum.net/v/20200505000102404'\n",
    "def get_detail(url):\n",
    "    body = []\n",
    "    punc = '[!\"#$%&\\'()*+,-./:;<=>?[\\]^_`{|}~“”·]'\n",
    "    response = requests.get(url)\n",
    "    root = lxml.html.fromstring(response.content)\n",
    "    for p in root.xpath('//*[@id=\"harmonyContainer\"]/section/p'):\n",
    "        if p.text: # 체크\n",
    "            body.append(re.sub(punc, '', p.text)) #변환 후 저장\n",
    "    full_body = ' '.join(body)\n",
    "    \n",
    "    return full_body\n",
    "\n",
    "# get_detail('https://news.v.daum.net/v/20200505000102404')"
   ]
  },
  {
   "cell_type": "code",
   "execution_count": 13,
   "metadata": {},
   "outputs": [],
   "source": [
    "def db_save(NEWS_LIST):\n",
    "    with sqlite3.connect(os.path.join('.','sqliteDB')) as con: # sqlite DB 파일이 존재하지 않는 경우 파일생성\n",
    "        try:\n",
    "            NEWS_LIST.to_sql(name = 'NEWS_LIST', con = con, index = False, if_exists='append') \n",
    "            #if_exists : {'fail', 'replace', 'append'} default : fail\n",
    "        except Exception as e:\n",
    "            print(str(e))\n",
    "        print(len(NEWS_LIST), '건 저장완료..')"
   ]
  },
  {
   "cell_type": "code",
   "execution_count": 14,
   "metadata": {},
   "outputs": [],
   "source": [
    "def db_delete():\n",
    "    with sqlite3.connect(os.path.join('.','sqliteDB')) as con: # sqlite DB 파일이 존재하지 않는 경우 파일생성\n",
    "        try:\n",
    "            cur = con.cursor()\n",
    "            sql = 'DELETE FROM NEWS_LIST'\n",
    "            cur.execute(sql)\n",
    "        except Exception as e:\n",
    "            print(str(e)) "
   ]
  },
  {
   "cell_type": "code",
   "execution_count": 15,
   "metadata": {},
   "outputs": [],
   "source": [
    "def db_drop():\n",
    "    with sqlite3.connect(os.path.join('.','sqliteDB')) as con: # sqlite DB 파일이 존재하지 않는 경우 파일생성\n",
    "        try:\n",
    "            cur = con.cursor()\n",
    "            sql = 'DROP TABLE NEWS_LIST'\n",
    "            cur.execute(sql)\n",
    "        except Exception as e:\n",
    "            print(str(e))"
   ]
  },
  {
   "cell_type": "code",
   "execution_count": 16,
   "metadata": {},
   "outputs": [],
   "source": [
    "def db_select(): #추출\n",
    "    with sqlite3.connect(os.path.join('.','sqliteDB')) as con: # sqlite DB 파일이 존재하지 않는 경우 파일생성\n",
    "        try:\n",
    "            query = 'SELECT * FROM NEWS_LIST'\n",
    "            NEWS_LIST = pd.read_sql(query, con = con)\n",
    "        except Exception as e:\n",
    "            print(str(e)) \n",
    "        return NEWS_LIST   \n"
   ]
  },
  {
   "cell_type": "code",
   "execution_count": 17,
   "metadata": {},
   "outputs": [],
   "source": [
    "db_drop()"
   ]
  },
  {
   "cell_type": "code",
   "execution_count": 18,
   "metadata": {
    "scrolled": true
   },
   "outputs": [
    {
     "name": "stdout",
     "output_type": "stream",
     "text": [
      "https://v.daum.net/v/20200505233813244 \"동물착취 말고 채식하세요\" [포토뉴스]\n",
      "https://v.daum.net/v/20200505221207681 중국, 창정 5B 운반로켓 발사 성공..\"우주정류장 건설 서막\"(종합)\n",
      "https://v.daum.net/v/20200505220039611 APEC 통상장관, 경제활동 필수인력 이동 원활화 합의\n",
      "https://v.daum.net/v/20200505213028369 사고난 차 사진 보내면 AI가 예상수리비 계산\n",
      "https://v.daum.net/v/20200505213024368 LG의 스마트폰 부활, '벨벳'에 건다\n",
      "https://v.daum.net/v/20200505213019367 타다 \"이동수단 선택 제한은 국민 기본권 침해\" 헌법소원\n",
      "https://v.daum.net/v/20200505205510021 중국, 창정 5B 운반로켓 발사 성공..\"우주정류장에 활용 기대\"\n",
      "https://v.daum.net/v/20200505204222924 한지민도 '덕분에 챌린지' 동참..다음 차례는?\n",
      "https://v.daum.net/v/20200505194003301 자영업자에 손 내민 카드사.. '빅데이터'로 코로나19 돌파\n",
      "https://v.daum.net/v/20200505193959299 사고차량 사진 띄우면 예상수리비 산출 '보험개발원 AOSα'\n",
      "https://v.daum.net/v/20200505193958298 디지털 신사업 뛰어든 신한아이타스 'KMS' 오픈\n",
      "https://v.daum.net/v/20200505193936283 현대百면세점 \"5월 특수만 기다렸다\"\n",
      "https://v.daum.net/v/20200505193933282 집콕 시대 'TV·컴퓨터' 제일 잘 나가네\n",
      "https://v.daum.net/v/20200505193931281 \"위메프서 사면 100% 최저가\"\n",
      "https://v.daum.net/v/20200505193921280 달아오른 이커머스 패권전쟁.. 외형확장 vs 내실경영 승자는?\n"
     ]
    }
   ],
   "source": [
    "response = requests.get('https://news.daum.net/breakingnews/digital?page=1&regDate=20200505') #2020.05.05 1페이지 뉴스 목록\n",
    "root = lxml.html.fromstring(response.content)\n",
    "for li in root.xpath('//*[@id=\"mArticle\"]/div[3]/ul/li'):\n",
    "    a = li.xpath('div/strong/a')[0]\n",
    "    url = a.get('href')\n",
    "    print(url, a.text)"
   ]
  },
  {
   "cell_type": "code",
   "execution_count": 19,
   "metadata": {},
   "outputs": [],
   "source": [
    "#db_delete()"
   ]
  },
  {
   "cell_type": "code",
   "execution_count": 29,
   "metadata": {
    "scrolled": true
   },
   "outputs": [
    {
     "name": "stdout",
     "output_type": "stream",
     "text": [
      "15 건 저장완료..\n",
      "[<Element a at 0x1e1a27df728>]\n",
      "15 건 저장완료..\n",
      "[<Element a at 0x1e1a27e95e8>]\n",
      "15 건 저장완료..\n",
      "[<Element a at 0x1e1a28144f8>]\n",
      "15 건 저장완료..\n",
      "[<Element a at 0x1e1a2814d68>]\n",
      "15 건 저장완료..\n",
      "[<Element a at 0x1e1a2817138>]\n",
      "15 건 저장완료..\n",
      "[<Element a at 0x1e1a2814cc8>]\n",
      "15 건 저장완료..\n",
      "[<Element a at 0x1e1a27df958>]\n",
      "15 건 저장완료..\n",
      "[<Element a at 0x1e1a27df4a8>]\n",
      "15 건 저장완료..\n",
      "[<Element a at 0x1e1a284a4a8>]\n",
      "15 건 저장완료..\n",
      "[<Element a at 0x1e1a27dfa48>]\n",
      "15 건 저장완료..\n",
      "[<Element a at 0x1e1a27dfa98>]\n",
      "15 건 저장완료..\n",
      "[<Element a at 0x1e1a27ce0e8>]\n",
      "15 건 저장완료..\n",
      "[<Element a at 0x1e1a2818f98>]\n",
      "15 건 저장완료..\n",
      "[<Element a at 0x1e1a2817ae8>]\n",
      "15 건 저장완료..\n",
      "[<Element a at 0x1e1a27ce4a8>]\n",
      "15 건 저장완료..\n",
      "[<Element a at 0x1e1a2867278>]\n",
      "15 건 저장완료..\n",
      "[<Element a at 0x1e1a27ce598>]\n",
      "15 건 저장완료..\n",
      "[<Element a at 0x1e1a15ac318>]\n",
      "15 건 저장완료..\n",
      "[<Element a at 0x1e1a27cef48>]\n",
      "15 건 저장완료..\n",
      "[<Element a at 0x1e1a27dfc78>]\n",
      "15 건 저장완료..\n",
      "[]\n",
      "15 건 저장완료..\n",
      "[]\n",
      "15 건 저장완료..\n",
      "[]\n",
      "4 건 저장완료..\n",
      "[]\n",
      "[]\n"
     ]
    }
   ],
   "source": [
    "page = 1\n",
    "max_page = 0\n",
    "dt = '20200505'\n",
    "while(True):\n",
    "    df_list = []\n",
    "    response = requests.get('https://news.daum.net/breakingnews/digital?page={}&regDate={}'\\\n",
    "                            .format(page, dt))\n",
    "    root = lxml.html.fromstring(response.content)\n",
    "    for li in root.xpath('//*[@id=\"mArticle\"]/div[3]/ul/li'):\n",
    "        a = li.xpath('div/strong/a')[0]\n",
    "        url = a.get('href')\n",
    "        df = pd.DataFrame({'URL' : [url],'TITLE':[a.text],'ARTICLE' : [get_detail(url)]})\n",
    "        df_list.append(df)   \n",
    "        \n",
    "    if df_list:   \n",
    "        df_10 = pd.concat(df_list) #concat: concatenation(접합)의 줄임말\n",
    "        db_save(df_10)\n",
    "\n",
    "    for a in root.xpath('//*[@id=\"mArticle\"]/div[3]/div/span/a'): #페이지 수\n",
    "        try:\n",
    "            num = int(a.text) # ex) 6페이지: <a href=\"/breakingnews/digital?page=6&amp;regDate=20200505\" class=\"num_page\">6</a> -> 여기서 6이 텍스트\n",
    "            if max_page < num:\n",
    "                max_page = num       \n",
    "        except:\n",
    "            pass\n",
    "    \n",
    "    span = root.xpath('//*[@id=\"mArticle\"]/div[3]/div/span/a[@class=\"btn_page btn_next\"]') #꺽새가 있는지 없는지 확인/ class지정에 @ 들어감\n",
    "    #print(span)\n",
    "    if (len(span) <= 0) & (page > max_page): #span이 0이하 이면 꺽새 없음\n",
    "        break;\n",
    "    else:\n",
    "        page = page + 1"
   ]
  },
  {
   "cell_type": "code",
   "execution_count": 21,
   "metadata": {},
   "outputs": [],
   "source": [
    "NEWS_LIST = db_select()"
   ]
  },
  {
   "cell_type": "code",
   "execution_count": 22,
   "metadata": {},
   "outputs": [
    {
     "name": "stdout",
     "output_type": "stream",
     "text": [
      "                                        URL  \\\n",
      "0    https://v.daum.net/v/20200505233813244   \n",
      "1    https://v.daum.net/v/20200505221207681   \n",
      "2    https://v.daum.net/v/20200505220039611   \n",
      "3    https://v.daum.net/v/20200505213028369   \n",
      "4    https://v.daum.net/v/20200505213024368   \n",
      "..                                      ...   \n",
      "344  https://v.daum.net/v/20200505050005064   \n",
      "345  https://v.daum.net/v/20200505030230453   \n",
      "346  https://v.daum.net/v/20200505030131395   \n",
      "347  https://v.daum.net/v/20200505000136415   \n",
      "348  https://v.daum.net/v/20200505000102404   \n",
      "\n",
      "                                       TITLE  \\\n",
      "0                     \"동물착취 말고 채식하세요\" [포토뉴스]   \n",
      "1    중국, 창정 5B 운반로켓 발사 성공..\"우주정류장 건설 서막\"(종합)   \n",
      "2             APEC 통상장관, 경제활동 필수인력 이동 원활화 합의   \n",
      "3                  사고난 차 사진 보내면 AI가 예상수리비 계산   \n",
      "4                      LG의 스마트폰 부활, '벨벳'에 건다   \n",
      "..                                       ...   \n",
      "344    오늘은 어린이날..IPTV·케이블TV서 키즈 콘텐츠 '무료· 할인'   \n",
      "345                 집콕족 늘면서 데이터 소비-5G 가입 '쑥'   \n",
      "346                      국립중앙과학관, 6일부터 부분 개관   \n",
      "347              \"반갑다\" 다시 돌아온 프로야구에 게임세상도 들썩   \n",
      "348         왓챠플레이-LG 스마트TV 리모컨 연동..OTT 접점 확대   \n",
      "\n",
      "                                               ARTICLE  \n",
      "0    경향신문  ‘비건을 지향하는 모든 사람들’ 회원들이 5일 서울 광화문광장에서 동물 ...  \n",
      "1    베이징선양연합뉴스 김윤구 차병섭 특파원  중국이 우주정류장 건설에 활용하기 위해 개...  \n",
      "2    지디넷코리아주문정 기자산업통상자원부는 5일 아시아 태평양 경제 공동체APEC 21개...  \n",
      "3    경향신문  자동차 사고가 났을 때 휴대폰 카메라로 파손된 부분을 찍으면 인공지능이 ...  \n",
      "4    경향신문  ‘LG 벨벳’은 LG전자 스마트폰 부활의 마중물이 될 수 있을까 스마트폰...  \n",
      "..                                                 ...  \n",
      "344  통신 3사가 운영하는 IPTV는 어린이날을 맞아 다양한 키즈 콘텐츠를 제공한다 SK...  \n",
      "345  신종 코로나바이러스 감염증코로나19 확산 여파로 ‘집콕’족이 늘어나면서 3월 무선 ...  \n",
      "346  국립중앙과학관은 생활방역체계 전환에 따라 6일부터 부분 개관한다고 4일 밝혔다 거리...  \n",
      "347  더팩트  최승진 기자 게임세상이 프로야구 개막으로 또다시 들썩이고 있다 5일 어린이...  \n",
      "348  LG전자 스마트TV 리모컨 클릭 한 번에 왓챠플레이가 연결된다 왓챠와 LG전자는 L...  \n",
      "\n",
      "[349 rows x 3 columns]\n"
     ]
    }
   ],
   "source": [
    "print(NEWS_LIST)"
   ]
  },
  {
   "cell_type": "code",
   "execution_count": 25,
   "metadata": {},
   "outputs": [],
   "source": [
    "def save_excel(NEWS_LIST): #엑셀 파일 생성\n",
    "    excel = pd.ExcelWriter('뉴스_IT_20200505.xlsx')\n",
    "    NEWS_LIST.to_excel(excel,'.',index=False)\n",
    "    excel.save()"
   ]
  },
  {
   "cell_type": "code",
   "execution_count": 26,
   "metadata": {},
   "outputs": [],
   "source": [
    "save_excel(NEWS_LIST)"
   ]
  },
  {
   "cell_type": "code",
   "execution_count": 27,
   "metadata": {},
   "outputs": [
    {
     "name": "stdout",
     "output_type": "stream",
     "text": [
      "[]\n"
     ]
    }
   ],
   "source": [
    "print(span)"
   ]
  },
  {
   "cell_type": "code",
   "execution_count": null,
   "metadata": {},
   "outputs": [],
   "source": []
  }
 ],
 "metadata": {
  "kernelspec": {
   "display_name": "Python 3",
   "language": "python",
   "name": "python3"
  },
  "language_info": {
   "codemirror_mode": {
    "name": "ipython",
    "version": 3
   },
   "file_extension": ".py",
   "mimetype": "text/x-python",
   "name": "python",
   "nbconvert_exporter": "python",
   "pygments_lexer": "ipython3",
   "version": "3.7.6"
  }
 },
 "nbformat": 4,
 "nbformat_minor": 4
}
